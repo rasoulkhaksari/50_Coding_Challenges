{
 "cells": [
  {
   "cell_type": "markdown",
   "source": [
    "## **Minimum Window Substring**\n",
    "---\n",
    "Given two strings s and t of lengths m and n respectively, return the minimum window substring of s such that every character in t (including duplicates) is included in the window. If there is no such substring, return the empty string \"\".\n",
    "\n",
    "The testcases will be generated such that the answer is unique.\n",
    "\n",
    "A substring is a contiguous sequence of characters within the string.\n",
    "\n",
    " \n",
    "\n",
    "**Example:**\n",
    "\n",
    "**Input:** s = \"ADOBECODEBANC\", t = \"ABC\"  \n",
    "**Output:** \"BANC\"  \n",
    "**Explanation:** The minimum window substring \"BANC\" includes 'A', 'B', and 'C' from string t.\n"
   ],
   "metadata": {}
  },
  {
   "cell_type": "code",
   "execution_count": 1,
   "source": [
    "class Solution:\n",
    "    def minWindow(self, s: str, t: str) -> str:\n",
    "        len1 = len(s)\n",
    "        len2 = len(t)\n",
    "\n",
    "        if(len1 < len2):\n",
    "            return \"\"\n",
    "\n",
    "        hashPat = {}\n",
    "        hashStr = {}\n",
    "\n",
    "        for i in range(0, len2):\n",
    "            if(hashPat.get(t[i]) is None):\n",
    "                hashPat[t[i]] = 0\n",
    "            hashPat[t[i]] += 1\n",
    "\n",
    "        count = 0\n",
    "        left = 0\n",
    "        startIndex = -1\n",
    "        minLen = float(\"inf\")\n",
    "\n",
    "        for right in range(0, len1):\n",
    "\n",
    "            if(hashStr.get(s[right]) is None):\n",
    "                hashStr[s[right]] = 0\n",
    "            hashStr[s[right]] += 1\n",
    "            if(hashPat.get(s[right]) is None):\n",
    "                hashPat[s[right]] = 0\n",
    "            if (\n",
    "\n",
    "                hashPat.get(s[right]) != 0 and\n",
    "                hashStr.get(s[right]) <= hashPat.get(s[right])\n",
    "            ):\n",
    "                count += 1  # keep incrementing the count if string hash is less then pattern hash\n",
    "            # count==len2 means a window is found that contains all character of pattern string\n",
    "            if (count == len2):\n",
    "\n",
    "                if(hashStr.get(s[left]) is None):\n",
    "                    hashStr[s[right]] = 0\n",
    "                if(hashPat.get(s[left]) is None):\n",
    "                    hashPat[s[right]] = 0\n",
    "                while (\n",
    "                    hashStr.get(s[left]) > hashPat.get(s[left]) or\n",
    "                    hashPat.get(s[left]) == 0\n",
    "                ):\n",
    "                    #minimizing the windows range from left side\n",
    "\n",
    "                    if (hashStr.get(s[left]) > hashPat.get(s[left])):\n",
    "                        hashStr[s[left]] -= 1\n",
    "                    left += 1  # incrementing the left pointer\n",
    "\n",
    "                windowLen = right - left + 1  # calculating the windows length\n",
    "                if (minLen > windowLen):\n",
    "                    minLen = windowLen\n",
    "                    startIndex = left\n",
    "\n",
    "        if (startIndex == -1):\n",
    "            return \"\"\n",
    "        return s[startIndex:startIndex+minLen]\n",
    "\n",
    "\n",
    "sol=Solution()\n",
    "s = \"ADOBECODEBANC\"\n",
    "t = \"ABC\"  \n",
    "print(f'Input: s = {s}, t = {t}')  \n",
    "print('Output: ',sol.minWindow(s,t))\n"
   ],
   "outputs": [
    {
     "output_type": "stream",
     "name": "stdout",
     "text": [
      "Input: s = ADOBECODEBANC, t = ABC\n",
      "Output:  BANC\n"
     ]
    }
   ],
   "metadata": {}
  }
 ],
 "metadata": {
  "orig_nbformat": 4,
  "language_info": {
   "name": "python",
   "version": "3.8.1",
   "mimetype": "text/x-python",
   "codemirror_mode": {
    "name": "ipython",
    "version": 3
   },
   "pygments_lexer": "ipython3",
   "nbconvert_exporter": "python",
   "file_extension": ".py"
  },
  "kernelspec": {
   "name": "python3",
   "display_name": "Python 3.8.1 64-bit ('python3.8venv': virtualenv)"
  },
  "interpreter": {
   "hash": "df9d03984b83641a2505d1d16443fe5d25870b4c7aed6c932a1853d344d70fb3"
  }
 },
 "nbformat": 4,
 "nbformat_minor": 2
}