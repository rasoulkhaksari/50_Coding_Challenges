{
 "cells": [
  {
   "cell_type": "markdown",
   "source": [
    "## **Kth Smallest Element in a BST**\n",
    "---\n",
    "Given the root of a binary search tree, and an integer k, return the kth (1-indexed) smallest element in the tree.\n",
    "\n",
    " \n",
    "**Example:**\n",
    "\n",
    "**Input:** root = [5,3,6,2,4,null,null,1], k = 3  \n",
    "**Output:** 3"
   ],
   "metadata": {}
  },
  {
   "cell_type": "code",
   "execution_count": 2,
   "source": [
    "class TreeNode:\n",
    "    def __init__(self, x):\n",
    "        self.val = x\n",
    "        self.left = None\n",
    "        self.right = None\n",
    "\n",
    "\n",
    "class Solution:\n",
    "    def kthSmallest(self, root: TreeNode, k: int) -> int:\n",
    "        self.k = k\n",
    "        self.res = None\n",
    "        self.helper(root)\n",
    "        return self.res\n",
    "\n",
    "    def helper(self, root):\n",
    "        if not root:\n",
    "            return\n",
    "        self.helper(root.left)\n",
    "        \n",
    "        self.k -= 1\n",
    "        if self.k == 0:\n",
    "            self.res = root.val\n",
    "            return\n",
    "        self.helper(root.right)\n",
    "\n",
    "\n",
    "root=TreeNode(5)\n",
    "node2=TreeNode(3)\n",
    "node3=TreeNode(6)\n",
    "node4=TreeNode(2)\n",
    "node5=TreeNode(4)\n",
    "node6=TreeNode(1)\n",
    "\n",
    "root.left=node2\n",
    "root.right=node3\n",
    "node2.left=node4\n",
    "node2.right=node5\n",
    "node4.left=node6\n",
    "\n",
    "s=Solution()\n",
    "k=3\n",
    "\n",
    "print(\"input:\\troot = [5,3,6,2,4,null,null,1], k = 3\")\n",
    "print('output:\\t',s.kthSmallest(root,k=3))"
   ],
   "outputs": [
    {
     "output_type": "stream",
     "name": "stdout",
     "text": [
      "input:\troot = [5,3,6,2,4,null,null,1], k = 3\n"
     ]
    }
   ],
   "metadata": {}
  }
 ],
 "metadata": {
  "orig_nbformat": 4,
  "language_info": {
   "name": "python",
   "version": "3.8.1",
   "mimetype": "text/x-python",
   "codemirror_mode": {
    "name": "ipython",
    "version": 3
   },
   "pygments_lexer": "ipython3",
   "nbconvert_exporter": "python",
   "file_extension": ".py"
  },
  "kernelspec": {
   "name": "python3",
   "display_name": "Python 3.8.1 64-bit ('python3.8venv': virtualenv)"
  },
  "interpreter": {
   "hash": "df9d03984b83641a2505d1d16443fe5d25870b4c7aed6c932a1853d344d70fb3"
  }
 },
 "nbformat": 4,
 "nbformat_minor": 2
}