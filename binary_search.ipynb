{
 "cells": [
  {
   "cell_type": "markdown",
   "source": [
    "## **Binary Search**\n",
    "---\n",
    "Given an array of integers nums which is sorted in ascending order, and an integer target, write a function to search target in nums. If target exists, then return its index. Otherwise, return -1.\n",
    "\n",
    "You must write an algorithm with O(log n) runtime complexity.\n",
    "\n",
    " \n",
    "\n",
    "**Example 1:**\n",
    "\n",
    "Input: nums = [-1,0,3,5,9,12], target = 9\n",
    "\n",
    "Output: 4\n",
    "\n",
    "Explanation: 9 exists in nums and its index is 4\n",
    "\n",
    " \n",
    "\n",
    "**Constraints:**\n",
    "\n",
    "    1 <= nums.length <= 104\n",
    "    -104 < nums[i], target < 104\n",
    "    All the integers in nums are unique.\n",
    "    nums is sorted in ascending order.\n",
    "\n"
   ],
   "metadata": {}
  },
  {
   "cell_type": "code",
   "execution_count": 1,
   "source": [
    "class Solution:\n",
    "\n",
    "    def binarySearch(self,input:list, target):\n",
    "        left = 0\n",
    "        right = len(input)-1\n",
    "        while left <= right:\n",
    "\n",
    "            mid = (left+right)//2\n",
    "\n",
    "            # Check if x is present at mid\n",
    "            if input[mid] == target:\n",
    "                return mid\n",
    "\n",
    "            # If x is greater, ignore left half\n",
    "            elif input[mid] < target:\n",
    "                left = mid + 1\n",
    "\n",
    "            # If x is smaller, ignore right half\n",
    "            else:\n",
    "                right = mid - 1\n",
    "\n",
    "        # If we reach here, then the element was not present\n",
    "        return -1\n",
    "\n",
    "\n",
    "\n",
    "input = [1, 2, 3, 4, 5, 6]\n",
    "target = 6\n",
    "s=Solution()\n",
    "result = s.binarySearch(input,target)\n",
    "if result != -1:\n",
    "    print(\"Target is present at index %d\" % result)\n",
    "else:\n",
    "    print(\"Target is not present in array\")"
   ],
   "outputs": [
    {
     "output_type": "stream",
     "name": "stdout",
     "text": [
      "Element is present at index 5\n"
     ]
    }
   ],
   "metadata": {}
  }
 ],
 "metadata": {
  "orig_nbformat": 4,
  "language_info": {
   "name": "python",
   "version": "3.8.1",
   "mimetype": "text/x-python",
   "codemirror_mode": {
    "name": "ipython",
    "version": 3
   },
   "pygments_lexer": "ipython3",
   "nbconvert_exporter": "python",
   "file_extension": ".py"
  },
  "kernelspec": {
   "name": "python3",
   "display_name": "Python 3.8.1 64-bit ('python3.8venv': virtualenv)"
  },
  "interpreter": {
   "hash": "df9d03984b83641a2505d1d16443fe5d25870b4c7aed6c932a1853d344d70fb3"
  }
 },
 "nbformat": 4,
 "nbformat_minor": 2
}