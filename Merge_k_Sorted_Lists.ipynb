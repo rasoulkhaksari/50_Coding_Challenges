{
 "cells": [
  {
   "cell_type": "markdown",
   "source": [
    "## **Merge k Sorted Lists**\n",
    "---\n",
    "You are given an array of k linked-lists lists, each linked-list is sorted in ascending order.\n",
    "\n",
    "Merge all the linked-lists into one sorted linked-list and return it.\n",
    "\n",
    " \n",
    "\n",
    "**Example:**\n",
    "\n",
    "**Input:** lists = [[1,4,5],[1,3,4],[2,6]]  \n",
    "**Output:** [1,1,2,3,4,4,5,6]  \n",
    "**Explanation:** The linked-lists are:  \n",
    "[  \n",
    "&nbsp;&nbsp; 1->4->5,  \n",
    "&nbsp;&nbsp; 1->3->4,  \n",
    "&nbsp;&nbsp; 2->6  \n",
    "]  \n",
    "merging them into one sorted list:  \n",
    "1->1->2->3->4->4->5->6  \n"
   ],
   "metadata": {}
  },
  {
   "cell_type": "code",
   "execution_count": 5,
   "source": [
    "import heapq\n",
    "\n",
    "class ListNode:\n",
    "    def __init__(self, x):\n",
    "        self.val = x\n",
    "        self.next = None\n",
    "\n",
    "class Solution:\n",
    "    def mergeKLists(self, lists: list) -> list:\n",
    "        h, counter = [], 0\n",
    "        for ls in lists:\n",
    "            if not ls:\n",
    "                continue\n",
    "            heapq.heappush(h, (ls.val, counter, ls))\n",
    "            counter += 1\n",
    "        head = None\n",
    "        while h:\n",
    "            _, _, current = heapq.heappop(h)\n",
    "            head = head or current\n",
    "            if current.next:\n",
    "                heapq.heappush(h, (current.next.val, counter, current.next))\n",
    "                counter += 1\n",
    "            if h:\n",
    "                current.next = h[0][2]\n",
    "        return head\n",
    "\n",
    "\n",
    "s=Solution()\n",
    "\n",
    "l1node1 = ListNode(1)\n",
    "l1node2 = ListNode(4)\n",
    "l1node3 = ListNode(5)\n",
    "l1node1.next=l1node2\n",
    "l1node2.next=l1node3\n",
    "\n",
    "l2node1 = ListNode(1)\n",
    "l2node2 = ListNode(3)\n",
    "l2node3 = ListNode(5)\n",
    "l2node1.next=l2node2\n",
    "l2node2.next=l2node3\n",
    "\n",
    "l3node1=ListNode(2)\n",
    "l3node2=ListNode(6)\n",
    "l3node1.next=l3node2\n",
    "\n",
    "print(\"input= [[1,4,5],[1,3,4],[2,6]]\")\n",
    "result = s.mergeKLists([l1node1,l2node1,l3node1])\n",
    "print(\"output= \",result.val,end=',')\n",
    "while result.next:\n",
    "    result=result.next\n",
    "    print(result.val,end=',')"
   ],
   "outputs": [
    {
     "output_type": "stream",
     "name": "stdout",
     "text": [
      "input= [[1,4,5],[1,3,4],[2,6]]\n",
      "output=  1,1,2,3,4,5,5,6,"
     ]
    }
   ],
   "metadata": {}
  }
 ],
 "metadata": {
  "orig_nbformat": 4,
  "language_info": {
   "name": "python",
   "version": "3.8.1",
   "mimetype": "text/x-python",
   "codemirror_mode": {
    "name": "ipython",
    "version": 3
   },
   "pygments_lexer": "ipython3",
   "nbconvert_exporter": "python",
   "file_extension": ".py"
  },
  "kernelspec": {
   "name": "python3",
   "display_name": "Python 3.8.1 64-bit ('python3.8venv': virtualenv)"
  },
  "interpreter": {
   "hash": "df9d03984b83641a2505d1d16443fe5d25870b4c7aed6c932a1853d344d70fb3"
  }
 },
 "nbformat": 4,
 "nbformat_minor": 2
}