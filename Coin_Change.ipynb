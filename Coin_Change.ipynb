{
 "cells": [
  {
   "cell_type": "markdown",
   "source": [
    "## **Coin Change**\n",
    "---\n",
    "You are given an integer array coins representing coins of different denominations and an integer amount representing a total amount of money.\n",
    "\n",
    "Return the fewest number of coins that you need to make up that amount. If that amount of money cannot be made up by any combination of the coins, return -1.\n",
    "\n",
    "You may assume that you have an infinite number of each kind of coin.\n",
    "\n",
    " \n",
    "\n",
    "**Example:**\n",
    "\n",
    "**Input:** coins = [1,2,5], amount = 11  \n",
    "**Output:** 3  \n",
    "**Explanation:** 11 = 5 + 5 + 1\n"
   ],
   "metadata": {}
  },
  {
   "cell_type": "code",
   "execution_count": 1,
   "source": [
    "class Solution:\n",
    "    def coinChange(self, coins: list, amount: int) -> int:\n",
    "        if amount <= 0:\n",
    "            return 0\n",
    "        \n",
    "        if min(coins) > amount:\n",
    "            return -1\n",
    "\n",
    "        INT_MAX = 1<<32\n",
    "        dp = [INT_MAX] * (amount +1)\n",
    "        \n",
    "        dp[0] = 0\n",
    "        \n",
    "        for i in range(1, amount + 1):\n",
    "            for coin in coins:\n",
    "                if coin <= i:\n",
    "                    dp[i] = min((dp[i-coin] + 1), dp[i])\n",
    "                    \n",
    "        return dp[amount] if dp[amount] != INT_MAX else -1\n",
    "\n",
    "\n",
    "s=Solution()\n",
    "coins = [1,2,5]\n",
    "amount=11\n",
    "print(f\"input:\\t coins={coins}\\tamount={amount}\")\n",
    "print(\"output:\\t\",s.coinChange(coins,amount))"
   ],
   "outputs": [],
   "metadata": {}
  }
 ],
 "metadata": {
  "orig_nbformat": 4,
  "language_info": {
   "name": "python",
   "version": "3.8.1",
   "mimetype": "text/x-python",
   "codemirror_mode": {
    "name": "ipython",
    "version": 3
   },
   "pygments_lexer": "ipython3",
   "nbconvert_exporter": "python",
   "file_extension": ".py"
  },
  "kernelspec": {
   "name": "python3",
   "display_name": "Python 3.8.1 64-bit ('python3.8venv': virtualenv)"
  },
  "interpreter": {
   "hash": "df9d03984b83641a2505d1d16443fe5d25870b4c7aed6c932a1853d344d70fb3"
  }
 },
 "nbformat": 4,
 "nbformat_minor": 2
}