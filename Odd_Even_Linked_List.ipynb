{
 "cells": [
  {
   "cell_type": "markdown",
   "source": [
    "## **Odd Even Linked List**\n",
    "---\n",
    "Given the head of a singly linked list, group all the nodes with odd indices together followed by the nodes with even indices, and return the reordered list.\n",
    "\n",
    "The first node is considered odd, and the second node is even, and so on.\n",
    "\n",
    "Note that the relative order inside both the even and odd groups should remain as it was in the input.\n",
    "\n",
    "You must solve the problem in O(1) extra space complexity and O(n) time complexity.\n",
    "\n",
    " \n",
    "\n",
    "**Example:**  \n",
    "**Input:** head = [1,2,3,4,5]  \n",
    "**Output:** [1,3,5,2,4]"
   ],
   "metadata": {}
  },
  {
   "cell_type": "code",
   "execution_count": 3,
   "source": [
    "class ListNode:\n",
    "    def __init__(self, x):\n",
    "        self.val = x\n",
    "        self.next = None\n",
    "\n",
    "class Solution:\n",
    "    def oddEvenList(self, head: ListNode) -> ListNode:\n",
    "        if(not head):\n",
    "            return head\n",
    "\n",
    "        odd = head\n",
    "        even = odd.next\n",
    "        evenList = even\n",
    "\n",
    "        while(even and even.next):\n",
    "            odd.next = even.next\n",
    "            odd = odd.next\n",
    "\n",
    "            even.next = odd.next\n",
    "            even = even.next\n",
    "\n",
    "        odd.next = evenList\n",
    "        return head\n",
    "\n",
    "s=Solution()\n",
    "head = ListNode(1)\n",
    "node2 = ListNode(2)\n",
    "node3 = ListNode(3)\n",
    "node4 = ListNode(4)\n",
    "node5 = ListNode(5)\n",
    "head.next=node2\n",
    "node2.next=node3\n",
    "node3.next=node4\n",
    "node4.next=node5\n",
    "\n",
    "print('input= [1,2,3,4,5]')\n",
    "result = s.oddEvenList(head)\n",
    "print('output= ',result.val,end=',')\n",
    "while result.next:\n",
    "    result=result.next\n",
    "    print(result.val,end=',')\n",
    "\n",
    "\n"
   ],
   "outputs": [
    {
     "output_type": "stream",
     "name": "stdout",
     "text": [
      "input= [1,2,3,4,5]\n",
      "output=  1,2,3,4,5,"
     ]
    }
   ],
   "metadata": {}
  }
 ],
 "metadata": {
  "orig_nbformat": 4,
  "language_info": {
   "name": "python",
   "version": "3.8.1",
   "mimetype": "text/x-python",
   "codemirror_mode": {
    "name": "ipython",
    "version": 3
   },
   "pygments_lexer": "ipython3",
   "nbconvert_exporter": "python",
   "file_extension": ".py"
  },
  "kernelspec": {
   "name": "python3",
   "display_name": "Python 3.8.1 64-bit ('python3.8venv': virtualenv)"
  },
  "interpreter": {
   "hash": "df9d03984b83641a2505d1d16443fe5d25870b4c7aed6c932a1853d344d70fb3"
  }
 },
 "nbformat": 4,
 "nbformat_minor": 2
}