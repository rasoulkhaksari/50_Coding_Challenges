{
 "cells": [
  {
   "cell_type": "markdown",
   "source": [
    "## **Palindrome Partitioning**\n",
    "---\n",
    "Given a string s, partition s such that every substring of the partition is a palindrome. Return all possible palindrome partitioning of s.\n",
    "\n",
    "A palindrome string is a string that reads the same backward as forward.\n",
    "\n",
    " \n",
    "\n",
    "**Example:**\n",
    "\n",
    "**Input:** s = \"aab\"  \n",
    "**Output:** [[\"a\",\"a\",\"b\"],[\"aa\",\"b\"]]\n"
   ],
   "metadata": {}
  },
  {
   "cell_type": "code",
   "execution_count": 1,
   "source": [
    "class Solution:\n",
    "    def isPalin(self, seg):\n",
    "        i = 0\n",
    "        j = len(seg)-1\n",
    "        while(i < j):\n",
    "            if(seg[i] != seg[j]):\n",
    "                return False\n",
    "            i += 1\n",
    "            j -= 1\n",
    "        return True\n",
    "\n",
    "    def dfs(self, s: str):\n",
    "        if(len(s) == 0 and len(self.temp) > 0):\n",
    "            self.res.append(self.temp[:])\n",
    "            return\n",
    "        n = len(s)+1\n",
    "        for i in range(1, n):\n",
    "            seg = s[0:i]\n",
    "            if(self.isPalin(seg)):\n",
    "                self.temp.append(seg)\n",
    "                self.dfs(s[i:])\n",
    "                self.temp.pop()\n",
    "\n",
    "    def partition(self, s: str) -> list:\n",
    "        self.res = []\n",
    "        self.temp = []\n",
    "        self.dfs(s)\n",
    "        return self.res\n",
    "\n",
    "\n",
    "s=Solution()\n",
    "input =\"aab\"\n",
    "print('input=\\t',input)\n",
    "print('output=\\t',s.partition(input))"
   ],
   "outputs": [
    {
     "output_type": "stream",
     "name": "stdout",
     "text": [
      "input=\t aab\n",
      "output=\t [['a', 'a', 'b'], ['aa', 'b']]\n"
     ]
    }
   ],
   "metadata": {}
  }
 ],
 "metadata": {
  "orig_nbformat": 4,
  "language_info": {
   "name": "python",
   "version": "3.8.1",
   "mimetype": "text/x-python",
   "codemirror_mode": {
    "name": "ipython",
    "version": 3
   },
   "pygments_lexer": "ipython3",
   "nbconvert_exporter": "python",
   "file_extension": ".py"
  },
  "kernelspec": {
   "name": "python3",
   "display_name": "Python 3.8.1 64-bit ('python3.8venv': virtualenv)"
  },
  "interpreter": {
   "hash": "df9d03984b83641a2505d1d16443fe5d25870b4c7aed6c932a1853d344d70fb3"
  }
 },
 "nbformat": 4,
 "nbformat_minor": 2
}