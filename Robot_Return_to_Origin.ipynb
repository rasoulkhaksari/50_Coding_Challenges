{
 "cells": [
  {
   "cell_type": "markdown",
   "source": [
    "## **Robot Return to Origin**\n",
    "---\n",
    "There is a robot starting at the position (0, 0), the origin, on a 2D plane. Given a sequence of its moves, judge if this robot ends up at (0, 0) after it completes its moves.\n",
    "\n",
    "You are given a string moves that represents the move sequence of the robot where moves[i] represents its ith move. Valid moves are 'R' (right), 'L' (left), 'U' (up), and 'D' (down).\n",
    "\n",
    "Return true if the robot returns to the origin after it finishes all of its moves, or false otherwise.\n",
    "\n",
    "Note: The way that the robot is \"facing\" is irrelevant. 'R' will always make the robot move to the right once, 'L' will always make it move left, etc. Also, assume that the magnitude of the robot's movement is the same for each move.\n",
    "\n",
    " \n",
    "\n",
    "**Example:**\n",
    "\n",
    "**Input:** moves = \"UD\"  \n",
    "**Output:** true  \n",
    "**Explanation:** The robot moves up once, and then down once. All moves have the same magnitude, so it ended up at the origin where it started. Therefore, we return true.\n"
   ],
   "metadata": {}
  },
  {
   "cell_type": "code",
   "execution_count": 1,
   "source": [
    "class Solution:\n",
    "    def judgeCircle(self, moves: str) -> bool:\n",
    "        \n",
    "        x = 0\n",
    "        y = 0\n",
    "\n",
    "        for move in moves:\n",
    "            if(move=='U'):\n",
    "                y+=1\n",
    "            elif(move=='R'):\n",
    "                x+=1\n",
    "            elif(move=='D'):\n",
    "                y-=1\n",
    "            elif(move=='L'):\n",
    "                x-=1\n",
    "        return x==0 and y==0\n",
    "\n",
    "s=Solution()\n",
    "moves = \"LDRRLRUULR\"\n",
    "print(f\"Is robot with '{moves}' moves return to origin? {s.judgeCircle(moves)}\")"
   ],
   "outputs": [
    {
     "output_type": "stream",
     "name": "stdout",
     "text": [
      "Is robot with 'LDRRLRUULR' moves return to origin? False\n"
     ]
    }
   ],
   "metadata": {}
  }
 ],
 "metadata": {
  "orig_nbformat": 4,
  "language_info": {
   "name": "python",
   "version": "3.8.1",
   "mimetype": "text/x-python",
   "codemirror_mode": {
    "name": "ipython",
    "version": 3
   },
   "pygments_lexer": "ipython3",
   "nbconvert_exporter": "python",
   "file_extension": ".py"
  },
  "kernelspec": {
   "name": "python3",
   "display_name": "Python 3.8.1 64-bit ('python3.8venv': virtualenv)"
  },
  "interpreter": {
   "hash": "df9d03984b83641a2505d1d16443fe5d25870b4c7aed6c932a1853d344d70fb3"
  }
 },
 "nbformat": 4,
 "nbformat_minor": 2
}