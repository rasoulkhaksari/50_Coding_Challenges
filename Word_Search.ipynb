{
 "cells": [
  {
   "cell_type": "markdown",
   "source": [
    "## **Word Search**\n",
    "---\n",
    "Given an m x n grid of characters board and a string word, return true if word exists in the grid.\n",
    "\n",
    "The word can be constructed from letters of sequentially adjacent cells, where adjacent cells are horizontally or vertically neighboring. The same letter cell may not be used more than once.\n",
    "\n",
    "**Example:**  \n",
    "**Input:** board = [[\"A\",\"B\",\"C\",\"E\"],[\"S\",\"F\",\"C\",\"S\"],[\"A\",\"D\",\"E\",\"E\"]], word = \"ABCCED\"  \n",
    "**Output:** true\n",
    "\n",
    "![words](./asset/word2.jpg)\n"
   ],
   "metadata": {}
  },
  {
   "cell_type": "code",
   "execution_count": 2,
   "source": [
    "class Solution:\n",
    "    dx = [0, 0, -1, 1]\n",
    "    dy = [1, -1, 0, 0]\n",
    "\n",
    "    def solution(self, board, word, x, y, cur):\n",
    "        if(x < 0 or x >= len(board) or y < 0 or y >= len(board[x]) or board[x][y] == ' '):\n",
    "            return False\n",
    "        cur += board[x][y]\n",
    "\n",
    "        if(len(cur) > len(word)):\n",
    "            return False\n",
    "        if(cur[len(cur)-1] != word[len(cur)-1]):\n",
    "            return False\n",
    "        if(cur == word):\n",
    "            return True\n",
    "\n",
    "        temp = board[x][y]\n",
    "        board[x][y] = ' '\n",
    "\n",
    "        for i in range(4):\n",
    "            if(self.solution(board, word, x+self.dx[i], y+self.dy[i], cur)):\n",
    "                return True\n",
    "\n",
    "        board[x][y] = temp\n",
    "        return False\n",
    "\n",
    "    def exist(self, board: list, word: str) -> bool:\n",
    "        if(len(word) == 0):\n",
    "            return True\n",
    "        n = len(board)\n",
    "        for i in range(n):\n",
    "            m = len(board[i])\n",
    "            for j in range(m):\n",
    "                if(word[0] == board[i][j] and self.solution(board, word, i, j, \"\")):\n",
    "                    return True\n",
    "        return False\n",
    "\n",
    "\n",
    "s=Solution()\n",
    "board = [[\"A\",\"B\",\"C\",\"E\"],[\"S\",\"F\",\"C\",\"S\"],[\"A\",\"D\",\"E\",\"E\"]]\n",
    "word = \"ABCCED\"\n",
    "print(f\"input:\\tboard = {board}, word = {word}\")\n",
    "print(\"output:\\t\",s.exist(board,word))"
   ],
   "outputs": [
    {
     "output_type": "stream",
     "name": "stdout",
     "text": [
      "input:\tboard = [['A', 'B', 'C', 'E'], ['S', 'F', 'C', 'S'], ['A', 'D', 'E', 'E']], word = ABCCED\n",
      "output:\t True\n"
     ]
    }
   ],
   "metadata": {}
  }
 ],
 "metadata": {
  "orig_nbformat": 4,
  "language_info": {
   "name": "python",
   "version": "3.8.1",
   "mimetype": "text/x-python",
   "codemirror_mode": {
    "name": "ipython",
    "version": 3
   },
   "pygments_lexer": "ipython3",
   "nbconvert_exporter": "python",
   "file_extension": ".py"
  },
  "kernelspec": {
   "name": "python3",
   "display_name": "Python 3.8.1 64-bit ('python3.8venv': virtualenv)"
  },
  "interpreter": {
   "hash": "df9d03984b83641a2505d1d16443fe5d25870b4c7aed6c932a1853d344d70fb3"
  }
 },
 "nbformat": 4,
 "nbformat_minor": 2
}