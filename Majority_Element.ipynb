{
 "cells": [
  {
   "cell_type": "markdown",
   "source": [
    "## **Majority Element**\n",
    "---\n",
    "Given an array nums of size n, return the majority element.\n",
    "\n",
    "The majority element is the element that appears more than ⌊n / 2⌋ times. You may assume that the majority element always exists in the array.\n",
    "\n",
    " \n",
    "**Example:**\n",
    "\n",
    "**Input:** nums = [3,2,3]  \n",
    "**Output:** 3\n"
   ],
   "metadata": {}
  },
  {
   "cell_type": "code",
   "execution_count": 1,
   "source": [
    "class Solution:\n",
    "    def majorityElement(self, nums: list) -> int:\n",
    "        m = {}\n",
    "        for num in nums:\n",
    "            m[num] = m.get(num,0)+1\n",
    "        for num in nums:\n",
    "            if(m[num]>len(nums)//2):\n",
    "                return num\n",
    "\n",
    "\n",
    "s=Solution()\n",
    "input = [3,2,3]\n",
    "print(f\"Majority elemnt in {input} is {s.majorityElement(input)}\")"
   ],
   "outputs": [
    {
     "output_type": "stream",
     "name": "stdout",
     "text": [
      "Majority elemnt in [3, 2, 3] is 3\n"
     ]
    }
   ],
   "metadata": {}
  }
 ],
 "metadata": {
  "orig_nbformat": 4,
  "language_info": {
   "name": "python",
   "version": "3.8.1",
   "mimetype": "text/x-python",
   "codemirror_mode": {
    "name": "ipython",
    "version": 3
   },
   "pygments_lexer": "ipython3",
   "nbconvert_exporter": "python",
   "file_extension": ".py"
  },
  "kernelspec": {
   "name": "python3",
   "display_name": "Python 3.8.1 64-bit ('python3.8venv': virtualenv)"
  },
  "interpreter": {
   "hash": "df9d03984b83641a2505d1d16443fe5d25870b4c7aed6c932a1853d344d70fb3"
  }
 },
 "nbformat": 4,
 "nbformat_minor": 2
}