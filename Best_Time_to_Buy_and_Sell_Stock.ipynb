{
 "cells": [
  {
   "cell_type": "markdown",
   "source": [
    "## **Best Time to Buy and Sell Stock**\n",
    "----\n",
    "You are given an array prices where prices[i] is the price of a given stock on the ith day.\n",
    "\n",
    "You want to maximize your profit by choosing a single day to buy one stock and choosing a different day in the future to sell that stock.\n",
    "\n",
    "Return the maximum profit you can achieve from this transaction. If you cannot achieve any profit, return 0.\n",
    "\n",
    " \n",
    "\n",
    "**Example:**\n",
    "\n",
    "**Input:** prices = [7,1,5,3,6,4]  \n",
    "**Output:** 5  \n",
    "**Explanation:** Buy on day 2 (price = 1) and sell on day 5 (price = 6), profit = 6-1 = 5.  \n",
    "Note that buying on day 2 and selling on day 1 is not allowed because you must buy before you sell.\n"
   ],
   "metadata": {}
  },
  {
   "cell_type": "code",
   "execution_count": 2,
   "source": [
    "class Solution:\n",
    "    def maxProfit(self, prices: list) -> int:\n",
    "        buyPrice = float(\"inf\")\n",
    "        profit = 0\n",
    "\n",
    "        for i, price in enumerate(prices):\n",
    "            if(buyPrice > price):\n",
    "                buyPrice = price\n",
    "            else:\n",
    "                profit = max(profit, price-buyPrice)\n",
    "\n",
    "        return profit\n",
    "\n",
    "\n",
    "s=Solution()\n",
    "input = [7,1,5,3,6,4]\n",
    "print('input:\\t',input)\n",
    "print('output:\\t',s.maxProfit(input))"
   ],
   "outputs": [
    {
     "output_type": "stream",
     "name": "stdout",
     "text": [
      "input:\t [7, 1, 5, 3, 6, 4]\n",
      "output:\t 5\n"
     ]
    }
   ],
   "metadata": {}
  }
 ],
 "metadata": {
  "orig_nbformat": 4,
  "language_info": {
   "name": "python",
   "version": "3.8.1",
   "mimetype": "text/x-python",
   "codemirror_mode": {
    "name": "ipython",
    "version": 3
   },
   "pygments_lexer": "ipython3",
   "nbconvert_exporter": "python",
   "file_extension": ".py"
  },
  "kernelspec": {
   "name": "python3",
   "display_name": "Python 3.8.1 64-bit ('python3.8venv': virtualenv)"
  },
  "interpreter": {
   "hash": "df9d03984b83641a2505d1d16443fe5d25870b4c7aed6c932a1853d344d70fb3"
  }
 },
 "nbformat": 4,
 "nbformat_minor": 2
}