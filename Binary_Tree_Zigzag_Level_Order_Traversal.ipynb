{
 "cells": [
  {
   "cell_type": "markdown",
   "source": [
    "## **Binary Tree Zigzag Level Order Traversal**\n",
    "---\n",
    "Given the root of a binary tree, return the zigzag level order traversal of its nodes' values. (i.e., from left to right, then right to left for the next level and alternate between).\n",
    "\n",
    " \n",
    "**Example:**  \n",
    "**Input:** root = [3,9,20,null,null,15,7]  \n",
    "**Output:** [[3],[20,9],[15,7]]"
   ],
   "metadata": {}
  },
  {
   "cell_type": "code",
   "execution_count": 6,
   "source": [
    "from collections import deque\n",
    "\n",
    "class TreeNode:\n",
    "    def __init__(self,x) -> None:\n",
    "        self.val = x\n",
    "        self.left = None\n",
    "        self.right = None\n",
    "\n",
    "\n",
    "class Solution:\n",
    "    def zigzagLevelOrder(self, root: TreeNode) -> list:\n",
    "        if not root:\n",
    "            return []\n",
    "        res = []\n",
    "        q = deque()\n",
    "\n",
    "        zigzag = False\n",
    "        q.append(root)\n",
    "\n",
    "        while q:\n",
    "            level = []\n",
    "            for _ in range(len(q)):\n",
    "                if zigzag:\n",
    "                    node = q.pop()\n",
    "                    level.append(node.val)\n",
    "                    if node.right:\n",
    "                        q.appendleft(node.right)\n",
    "                    if node.left:\n",
    "                        q.appendleft(node.left)\n",
    "\n",
    "                else:\n",
    "                    node = q.popleft()\n",
    "                    level.append(node.val)\n",
    "                    if node.left:\n",
    "                        q.append(node.left)\n",
    "                    if node.right:\n",
    "                        q.append(node.right)\n",
    "            res.append(level)\n",
    "            zigzag = not zigzag\n",
    "\n",
    "        return res\n",
    "\n",
    "\n",
    "s=Solution()\n",
    "node1=TreeNode(3)\n",
    "node2=TreeNode(9)\n",
    "node3=TreeNode(20)\n",
    "node4=TreeNode(15)\n",
    "node5=TreeNode(7)\n",
    "node1.left=node2\n",
    "node1.right=node3\n",
    "node3.left = node4\n",
    "node3.right=node5\n",
    "print(\"output: \",s.zigzagLevelOrder(node1))"
   ],
   "outputs": [
    {
     "output_type": "stream",
     "name": "stdout",
     "text": [
      "output:  [[3], [20, 9], [15, 7]]\n"
     ]
    }
   ],
   "metadata": {}
  }
 ],
 "metadata": {
  "orig_nbformat": 4,
  "language_info": {
   "name": "python",
   "version": "3.8.1",
   "mimetype": "text/x-python",
   "codemirror_mode": {
    "name": "ipython",
    "version": 3
   },
   "pygments_lexer": "ipython3",
   "nbconvert_exporter": "python",
   "file_extension": ".py"
  },
  "kernelspec": {
   "name": "python3",
   "display_name": "Python 3.8.1 64-bit ('python3.8venv': virtualenv)"
  },
  "interpreter": {
   "hash": "df9d03984b83641a2505d1d16443fe5d25870b4c7aed6c932a1853d344d70fb3"
  }
 },
 "nbformat": 4,
 "nbformat_minor": 2
}