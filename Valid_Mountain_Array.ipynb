{
 "cells": [
  {
   "cell_type": "markdown",
   "source": [
    "## **Valid Mountain Array**\n",
    "---\n",
    "Given an array of integers arr, return true if and only if it is a valid mountain array.\n",
    "\n",
    "Recall that arr is a mountain array if and only if:\n",
    "\n",
    "- arr.length >= 3\n",
    "- There exists some i with 0 < i < arr.length - 1 such that:\n",
    "    - arr[0] < arr[1] < ... < arr[i - 1] < arr[i]\n",
    "    - arr[i] > arr[i + 1] > ... > arr[arr.length - 1]\n",
    "\n",
    "**Example:**\n",
    "\n",
    "Input: arr = [2,1] <br>\n",
    "Output: false\n",
    "\n",
    "Input: arr = [0,3,2,1] <br>\n",
    "Output: true\n",
    "\n",
    "**Constraints:**\n",
    "\n",
    "- 1 <= arr.length <= 104\n",
    "- 0 <= arr[i] <= 104\n",
    "\n"
   ],
   "metadata": {}
  },
  {
   "cell_type": "code",
   "execution_count": 6,
   "source": [
    "class Solution:\n",
    "    def validMountainArray(self, A: list) -> bool:\n",
    "        if(len(A)<3):\n",
    "            return False\n",
    "        \n",
    "        i = 1\n",
    "        while(i<len(A) and A[i]>A[i-1]):\n",
    "            i+=1\n",
    "        \n",
    "        if(i==1 or i==len(A)):\n",
    "            return False\n",
    "        \n",
    "        while(i<len(A) and A[i]<A[i-1]):\n",
    "            i+=1\n",
    "        \n",
    "        return i==len(A)\n",
    "\n",
    "\n",
    "s=Solution()\n",
    "input = [2,1]\n",
    "print('input\\t',input)\n",
    "print('output:\\t',s.validMountainArray(input))\n",
    "print()\n",
    "input = [0,3,2,1]\n",
    "print('input\\t',input)\n",
    "print('output:\\t',s.validMountainArray(input))\n"
   ],
   "outputs": [
    {
     "output_type": "stream",
     "name": "stdout",
     "text": [
      "input\t [2, 1]\n",
      "output:\t False\n",
      "\n",
      "input\t [0, 3, 2, 1]\n",
      "output:\t True\n"
     ]
    }
   ],
   "metadata": {}
  }
 ],
 "metadata": {
  "orig_nbformat": 4,
  "language_info": {
   "name": "python",
   "version": "3.8.1",
   "mimetype": "text/x-python",
   "codemirror_mode": {
    "name": "ipython",
    "version": 3
   },
   "pygments_lexer": "ipython3",
   "nbconvert_exporter": "python",
   "file_extension": ".py"
  },
  "kernelspec": {
   "name": "python3",
   "display_name": "Python 3.8.1 64-bit ('python3.8venv': virtualenv)"
  },
  "interpreter": {
   "hash": "df9d03984b83641a2505d1d16443fe5d25870b4c7aed6c932a1853d344d70fb3"
  }
 },
 "nbformat": 4,
 "nbformat_minor": 2
}