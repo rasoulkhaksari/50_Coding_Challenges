{
 "cells": [
  {
   "cell_type": "markdown",
   "source": [
    "## **Container With Most Water**\n",
    "---\n",
    "Given n non-negative integers a1, a2, ..., an , where each represents a point at coordinate (i, ai). n vertical lines are drawn such that the two endpoints of the line i is at (i, ai) and (i, 0). Find two lines, which, together with the x-axis forms a container, such that the container contains the most water.\n",
    "\n",
    "**Notice** that you may not slant the container.\n",
    "\n",
    "**Example**\n",
    "\n",
    "![Container With Most Water](./asset/Container_With_Most_Water.jpg)\n",
    "\n",
    "**Input:** height = [1,8,6,2,5,4,8,3,7]  \n",
    "**Output:** 49  \n",
    "**Explanation:** The above vertical lines are represented by array [1,8,6,2,5,4,8,3,7]. In this case, the max area of water (blue section) the container can contain is 49."
   ],
   "metadata": {}
  },
  {
   "cell_type": "code",
   "execution_count": 1,
   "source": [
    "class Solution:\n",
    "    def maxArea(self, height: list) -> int:\n",
    "        maxarea = 0\n",
    "        l = 0\n",
    "        r = len(height)-1\n",
    "\n",
    "        while(l<r):\n",
    "            maxarea = max(maxarea, min(height[l],height[r])*(r-l))\n",
    "            if(height[l]<height[r]):\n",
    "                l+=1\n",
    "            else:\n",
    "                r-=1\n",
    "        return maxarea\n",
    "\n",
    "\n",
    "\n",
    "s=Solution()\n",
    "input = [1,8,6,2,5,4,8,3,7]\n",
    "print(\"max area for input is: \",s.maxArea(input))"
   ],
   "outputs": [
    {
     "output_type": "stream",
     "name": "stdout",
     "text": [
      "max area for input is:  49\n"
     ]
    }
   ],
   "metadata": {}
  }
 ],
 "metadata": {
  "orig_nbformat": 4,
  "language_info": {
   "name": "python",
   "version": "3.8.1",
   "mimetype": "text/x-python",
   "codemirror_mode": {
    "name": "ipython",
    "version": 3
   },
   "pygments_lexer": "ipython3",
   "nbconvert_exporter": "python",
   "file_extension": ".py"
  },
  "kernelspec": {
   "name": "python3",
   "display_name": "Python 3.8.1 64-bit ('python3.8venv': virtualenv)"
  },
  "interpreter": {
   "hash": "df9d03984b83641a2505d1d16443fe5d25870b4c7aed6c932a1853d344d70fb3"
  }
 },
 "nbformat": 4,
 "nbformat_minor": 2
}