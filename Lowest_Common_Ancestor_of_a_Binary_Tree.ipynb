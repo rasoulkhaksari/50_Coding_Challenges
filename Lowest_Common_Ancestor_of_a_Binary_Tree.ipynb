{
 "cells": [
  {
   "cell_type": "markdown",
   "source": [
    "## **Lowest Common Ancestor of a Binary Tree**\n",
    "---\n",
    "Given a binary tree, find the lowest common ancestor (LCA) of two given nodes in the tree.\n",
    "\n",
    "According to the definition of LCA on Wikipedia: “The lowest common ancestor is defined between two nodes p and q as the lowest node in T that has both p and q as descendants (where we allow a node to be a descendant of itself).”\n",
    "\n",
    " \n",
    "\n",
    "**Example:**\n",
    "\n",
    "**Input:** root = [3,5,1,6,2,0,8,null,null,7,4], p = 5, q = 1  \n",
    "**Output:** 3  \n",
    "**Explanation:** The LCA of nodes 5 and 1 is 3.\n",
    "\n",
    "![btree](./asset/binarytree.png)"
   ],
   "metadata": {}
  },
  {
   "cell_type": "code",
   "execution_count": 1,
   "source": [
    "class TreeNode:\n",
    "    def __init__(self, x):\n",
    "        self.val = x\n",
    "        self.left = None\n",
    "        self.right = None\n",
    "\n",
    "class Solution:\n",
    "    def lowestCommonAncestor(self, root: TreeNode, p: TreeNode, q: TreeNode) -> TreeNode:\n",
    "        if(root is None):\n",
    "            return None\n",
    "        if(root.val==p.val or root.val==q.val):\n",
    "            return root\n",
    "        \n",
    "        left = self.lowestCommonAncestor(root.left,p,q)\n",
    "        right = self.lowestCommonAncestor(root.right,p,q)\n",
    "\n",
    "        if(left is None and right is None):\n",
    "            return None\n",
    "        if(left is not None and right is not None):\n",
    "            return root\n",
    "        if(left is None):\n",
    "            return right\n",
    "        return left\n",
    "\n",
    "\n",
    "s=Solution()\n",
    "root=TreeNode(3)\n",
    "node2 = TreeNode(5)\n",
    "node3 = TreeNode(1)\n",
    "node4 = TreeNode(6)\n",
    "node5 = TreeNode(2)\n",
    "node6 = TreeNode(0)\n",
    "node7 = TreeNode(8)\n",
    "node8 = TreeNode(7)\n",
    "node9 = TreeNode(4)\n",
    "root.left=node2\n",
    "root.right=node3\n",
    "node2.left=node4\n",
    "node2.right=node5\n",
    "node3.left=node6\n",
    "node3.right=node7\n",
    "node5.left=node8\n",
    "node5.right=node9\n",
    "\n",
    "\n",
    "p=node2\n",
    "q=node3\n",
    "print('Input:\\troot = [3,5,1,6,2,0,8,null,null,7,4], p = 5, q = 1')\n",
    "print('output:\\t',s.lowestCommonAncestor(root,p,q).val)\n"
   ],
   "outputs": [
    {
     "output_type": "stream",
     "name": "stdout",
     "text": [
      "Input:\troot = [3,5,1,6,2,0,8,null,null,7,4], p = 5, q = 1\n",
      "output:\t 3\n"
     ]
    }
   ],
   "metadata": {}
  }
 ],
 "metadata": {
  "orig_nbformat": 4,
  "language_info": {
   "name": "python",
   "version": "3.8.1",
   "mimetype": "text/x-python",
   "codemirror_mode": {
    "name": "ipython",
    "version": 3
   },
   "pygments_lexer": "ipython3",
   "nbconvert_exporter": "python",
   "file_extension": ".py"
  },
  "kernelspec": {
   "name": "python3",
   "display_name": "Python 3.8.1 64-bit"
  },
  "interpreter": {
   "hash": "df9d03984b83641a2505d1d16443fe5d25870b4c7aed6c932a1853d344d70fb3"
  }
 },
 "nbformat": 4,
 "nbformat_minor": 2
}