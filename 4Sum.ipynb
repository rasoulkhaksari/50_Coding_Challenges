{
 "cells": [
  {
   "cell_type": "markdown",
   "source": [
    "## **4Sum**\n",
    "---\n",
    "Given four integer arrays nums1, nums2, nums3, and nums4 all of length n, return the number of tuples (i, j, k, l) such that:\n",
    "\n",
    "    0 <= i, j, k, l < n\n",
    "    nums1[i] + nums2[j] + nums3[k] + nums4[l] == 0\n",
    "\n",
    " \n",
    "\n",
    "**Example:**\n",
    "\n",
    "**Input:** nums1 = [1,2], nums2 = [-2,-1], nums3 = [-1,2], nums4 = [0,2]  \n",
    "**Output:** 2  \n",
    "**Explanation:**  \n",
    "The two tuples are:  \n",
    "1. (0, 0, 0, 1) -> nums1[0] + nums2[0] + nums3[0] + nums4[1] = 1 + (-2) + (-1) + 2 = 0  \n",
    "2. (1, 1, 0, 0) -> nums1[1] + nums2[1] + nums3[0] + nums4[0] = 2 + (-1) + (-1) + 0 = 0\n"
   ],
   "metadata": {}
  },
  {
   "cell_type": "code",
   "execution_count": 4,
   "source": [
    "class Solution:\n",
    "    def fourSumCount(self, A: list, B: list, C: list, D: list) -> int:\n",
    "      m = {}\n",
    "      ans = 0\n",
    "\n",
    "      for i in range(0,len(A)):\n",
    "        x = A[i]\n",
    "        for j in range(0,len(B)):\n",
    "          y = B[j]\n",
    "          if(x+y not in m):\n",
    "            m[x+y] = 0\n",
    "          m[x+y]+=1\n",
    "\n",
    "      for i in range(0,len(C)):\n",
    "        x = C[i]\n",
    "        for j in range(0,len(D)):\n",
    "          y = D[j]\n",
    "          target = -(x+y)\n",
    "          if(target in m):\n",
    "            ans+=m[target]\n",
    "\n",
    "      return ans\n",
    "\n",
    "\n",
    "\n",
    "s=Solution()\n",
    "nums1 = [1,2]\n",
    "nums2 = [-2,-1]\n",
    "nums3 = [-1,2]\n",
    "nums4 = [0,2]\n",
    "\n",
    "print(f\"input:\\tnums1={nums1}, nums2={nums2}, nums3={nums3}, nums4={nums4}\")\n",
    "print(\"output:\\t\",s.fourSumCount(nums1,nums2,nums3,nums4))"
   ],
   "outputs": [
    {
     "output_type": "stream",
     "name": "stdout",
     "text": [
      "input:\t\tnums1=[1, 2], nums2=[-2, -1], nums3=[-1, 2], nums4=[0, 2]\n",
      "output:\t 2\n"
     ]
    }
   ],
   "metadata": {}
  }
 ],
 "metadata": {
  "orig_nbformat": 4,
  "language_info": {
   "name": "python",
   "version": "3.8.1",
   "mimetype": "text/x-python",
   "codemirror_mode": {
    "name": "ipython",
    "version": 3
   },
   "pygments_lexer": "ipython3",
   "nbconvert_exporter": "python",
   "file_extension": ".py"
  },
  "kernelspec": {
   "name": "python3",
   "display_name": "Python 3.8.1 64-bit ('python3.8venv': virtualenv)"
  },
  "interpreter": {
   "hash": "df9d03984b83641a2505d1d16443fe5d25870b4c7aed6c932a1853d344d70fb3"
  }
 },
 "nbformat": 4,
 "nbformat_minor": 2
}