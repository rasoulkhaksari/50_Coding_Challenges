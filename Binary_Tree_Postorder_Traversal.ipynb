{
 "cells": [
  {
   "cell_type": "markdown",
   "source": [
    "## **Binary Tree Postorder Traversal**\n",
    "---\n",
    "Given the root of a binary tree, return the postorder traversal of its nodes' values.\n",
    "\n",
    "**Example:**  \n",
    "**Input:** root = [1,null,2,3]  \n",
    "**Output:** [3,2,1]\n"
   ],
   "metadata": {}
  },
  {
   "cell_type": "code",
   "execution_count": 2,
   "source": [
    "class TreeNode:\n",
    "    def __init__(self, x):\n",
    "        self.val = x\n",
    "        self.left = None\n",
    "        self.right = None\n",
    "\n",
    "class Solution:\n",
    "    def postorderTraversal(self, root: TreeNode) -> list:\n",
    "        if(not root):\n",
    "            return\n",
    "        \n",
    "        ans = []\n",
    "        s1 = []\n",
    "        s2 = []\n",
    "\n",
    "        s1.append(root)\n",
    "\n",
    "        while(s1):\n",
    "            x = s1[-1]\n",
    "            s1.pop()\n",
    "            s2.append(x)\n",
    "\n",
    "            if(x.left):\n",
    "                s1.append(x.left)\n",
    "            if(x.right):\n",
    "                s1.append(x.right)\n",
    "        \n",
    "        while(s2):\n",
    "            y = s2[-1]\n",
    "            s2.pop()\n",
    "            ans.append(y.val)\n",
    "        return ans\n",
    "\n",
    "\n",
    "s=Solution()\n",
    "node1=TreeNode(1)\n",
    "node2=TreeNode(2)\n",
    "node3=TreeNode(3)\n",
    "node1.right=node2\n",
    "node2.left=node3\n",
    "print(\"output: \",s.postorderTraversal(node1))"
   ],
   "outputs": [
    {
     "output_type": "stream",
     "name": "stdout",
     "text": [
      "output:  [3, 2, 1]\n"
     ]
    }
   ],
   "metadata": {}
  }
 ],
 "metadata": {
  "orig_nbformat": 4,
  "language_info": {
   "name": "python",
   "version": "3.8.1",
   "mimetype": "text/x-python",
   "codemirror_mode": {
    "name": "ipython",
    "version": 3
   },
   "pygments_lexer": "ipython3",
   "nbconvert_exporter": "python",
   "file_extension": ".py"
  },
  "kernelspec": {
   "name": "python3",
   "display_name": "Python 3.8.1 64-bit ('python3.8venv': virtualenv)"
  },
  "interpreter": {
   "hash": "df9d03984b83641a2505d1d16443fe5d25870b4c7aed6c932a1853d344d70fb3"
  }
 },
 "nbformat": 4,
 "nbformat_minor": 2
}