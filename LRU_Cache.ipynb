{
 "cells": [
  {
   "cell_type": "markdown",
   "source": [
    "## **LRU Cache**\n",
    "---\n",
    "Design a data structure that follows the constraints of a Least Recently Used (LRU) cache.\n",
    "\n",
    "Implement the LRUCache class:\n",
    "\n",
    "- LRUCache(int capacity) Initialize the LRU cache with positive size capacity.\n",
    "- int get(int key) Return the value of the key if the key exists, otherwise return -1.\n",
    "- void put(int key, int value) Update the value of the key if the key exists. Otherwise, add the key-value pair to the cache. If the number of keys exceeds the capacity from this operation, evict the least recently used key.\n",
    "\n",
    "The functions get and put must each run in O(1) average time complexity.\n",
    "\n",
    " \n",
    "**Example:**\n",
    "\n",
    "**Input**  \n",
    "[\"LRUCache\", \"put\", \"put\", \"get\", \"put\", \"get\", \"put\", \"get\", \"get\", \"get\"]  \n",
    "[[2], [1, 1], [2, 2], [1], [3, 3], [2], [4, 4], [1], [3], [4]]  \n",
    "**Output**  \n",
    "[null, null, null, 1, null, -1, null, -1, 3, 4]  \n",
    "\n",
    "**Explanation**  \n",
    "LRUCache lRUCache = new LRUCache(2);  \n",
    "lRUCache.put(1, 1); // cache is {1=1}  \n",
    "lRUCache.put(2, 2); // cache is {1=1, 2=2}  \n",
    "lRUCache.get(1);    // return 1  \n",
    "lRUCache.put(3, 3); // LRU key was 2, evicts key 2, cache is {1=1, 3=3}  \n",
    "lRUCache.get(2);    // returns -1 (not found)  \n",
    "lRUCache.put(4, 4); // LRU key was 1, evicts key 1, cache is {4=4, 3=3}  \n",
    "lRUCache.get(1);    // return -1 (not found)  \n",
    "lRUCache.get(3);    // return 3  \n",
    "lRUCache.get(4);    // return 4  \n"
   ],
   "metadata": {}
  },
  {
   "cell_type": "code",
   "execution_count": 4,
   "source": [
    "from collections import deque\n",
    "\n",
    "\n",
    "class LRUCache:\n",
    "\n",
    "    def __init__(self, capacity: int):\n",
    "        self.c = capacity\n",
    "        self.m = dict()\n",
    "        self.deq = deque()\n",
    "\n",
    "    def get(self, key: int) -> int:\n",
    "        if key in self.m:\n",
    "            value = self.m[key]\n",
    "            self.deq.remove(key)\n",
    "            self.deq.append(key)\n",
    "            return value\n",
    "        else:\n",
    "            return -1\n",
    "\n",
    "    def put(self, key: int, value: int) -> None:\n",
    "        if key not in self.m:\n",
    "            if len(self.deq) == self.c:\n",
    "                oldest = self.deq.popleft()\n",
    "                del self.m[oldest]\n",
    "        else:\n",
    "            self.deq.remove(key)\n",
    "\n",
    "        self.m[key] = value\n",
    "        self.deq.append(key)\n",
    "\n",
    "\n",
    "c= LRUCache(2)\n",
    "c.put(1,1)\n",
    "c.put(2,2)\n",
    "c.get(1)\n",
    "c.put(3,3)\n",
    "c.get(2)\n",
    "c.put(4,4)\n",
    "c.get(1)\n",
    "c.get(3)\n",
    "c.get(4)"
   ],
   "outputs": [
    {
     "output_type": "stream",
     "name": "stdout",
     "text": [
      "1\n"
     ]
    },
    {
     "output_type": "execute_result",
     "data": {
      "text/plain": [
       "4"
      ]
     },
     "metadata": {},
     "execution_count": 4
    }
   ],
   "metadata": {}
  }
 ],
 "metadata": {
  "orig_nbformat": 4,
  "language_info": {
   "name": "python"
  }
 },
 "nbformat": 4,
 "nbformat_minor": 2
}