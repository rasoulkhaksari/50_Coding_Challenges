{
 "cells": [
  {
   "cell_type": "markdown",
   "source": [
    "## **Remove Nth Node From End of List**\n",
    "---\n",
    "Given the head of a linked list, remove the nth node from the end of the list and return its head.\n",
    "\n",
    "**Example:**  \n",
    "**Input:** head = [1,2,3,4,5], n = 2  \n",
    "**Output:** [1,2,3,5]"
   ],
   "metadata": {}
  },
  {
   "cell_type": "code",
   "execution_count": 3,
   "source": [
    "class ListNode:\n",
    "    def __init__(self, x):\n",
    "        self.val = x\n",
    "        self.next = None\n",
    "\n",
    "class Solution:\n",
    "    def removeNthFromEnd(self, head: ListNode, n: int) -> ListNode:\n",
    "        first, second = head, head\n",
    "        for _ in range(n):\n",
    "            second = second.next\n",
    "        if not second:\n",
    "            return head.next\n",
    "        while second.next:\n",
    "            second = second.next\n",
    "            first = first.next\n",
    "        first.next = first.next.next\n",
    "        return head\n",
    "\n",
    "\n",
    "\n",
    "s=Solution()\n",
    "lstNode1 = ListNode(1)\n",
    "lstNode2 = ListNode(2)\n",
    "lstNode3 = ListNode(3)\n",
    "lstNode4 = ListNode(4)\n",
    "lstNode5 = ListNode(5)\n",
    "lstNode1.next=lstNode2\n",
    "lstNode2.next=lstNode3\n",
    "lstNode3.next=lstNode4\n",
    "lstNode4.next=lstNode5\n",
    "\n",
    "result = s.removeNthFromEnd(lstNode1,2)\n",
    "print(f'input=[1,2,3,4,5]\\nresult= {result.val}',end=',')\n",
    "while result.next:\n",
    "    result=result.next\n",
    "    print(result.val,end=',')"
   ],
   "outputs": [
    {
     "output_type": "stream",
     "name": "stdout",
     "text": [
      "input=[1,2,3,4,5]\n",
      "result= 1,2,3,5,"
     ]
    }
   ],
   "metadata": {}
  }
 ],
 "metadata": {
  "orig_nbformat": 4,
  "language_info": {
   "name": "python",
   "version": "3.8.1",
   "mimetype": "text/x-python",
   "codemirror_mode": {
    "name": "ipython",
    "version": 3
   },
   "pygments_lexer": "ipython3",
   "nbconvert_exporter": "python",
   "file_extension": ".py"
  },
  "kernelspec": {
   "name": "python3",
   "display_name": "Python 3.8.1 64-bit ('python3.8venv': virtualenv)"
  },
  "interpreter": {
   "hash": "df9d03984b83641a2505d1d16443fe5d25870b4c7aed6c932a1853d344d70fb3"
  }
 },
 "nbformat": 4,
 "nbformat_minor": 2
}