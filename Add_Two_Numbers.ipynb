{
 "cells": [
  {
   "cell_type": "markdown",
   "source": [
    "## **Add Two Numbers**\n",
    "---\n",
    "You are given two non-empty linked lists representing two non-negative integers. The digits are stored in reverse order, and each of their nodes contains a single digit. Add the two numbers and return the sum as a linked list.\n",
    "\n",
    "You may assume the two numbers do not contain any leading zero, except the number 0 itself.\n",
    "\n",
    " \n",
    "\n",
    "**Example:**  \n",
    "**Input:** l1 = [2,4,3], l2 = [5,6,4]  \n",
    "**Output:** [7,0,8]  \n",
    "**Explanation:** 342 + 465 = 807.\n"
   ],
   "metadata": {}
  },
  {
   "cell_type": "code",
   "execution_count": 11,
   "source": [
    "class ListNode:\n",
    "    def __init__(self, x):\n",
    "        self.val = x\n",
    "        self.next = None\n",
    "\n",
    "class Solution:\n",
    "    def addTwoNumbers(self, l1: ListNode, l2: ListNode) -> ListNode:\n",
    "        ans = ListNode(None)\n",
    "        pointer = ans\n",
    "\n",
    "        carry = 0\n",
    "        sum = 0\n",
    "\n",
    "        while(l1!=None or l2!=None):\n",
    "            sum = carry\n",
    "            if(l1!=None):\n",
    "                sum+=l1.val\n",
    "                l1 = l1.next\n",
    "            if(l2!=None):\n",
    "                sum+=l2.val\n",
    "                l2 = l2.next\n",
    "            \n",
    "            carry = int(sum/10)\n",
    "            pointer.next  = ListNode(sum%10)\n",
    "\n",
    "            pointer = pointer.next\n",
    "        \n",
    "        if(carry>0):\n",
    "            pointer.next = ListNode(carry)\n",
    "        \n",
    "        return ans.next\n",
    "\n",
    "\n",
    "s=Solution()\n",
    "lstNode1 =ListNode(2) \n",
    "lstNode2 =ListNode(4) \n",
    "lstNode3 =ListNode(3) \n",
    "lstNode1.next=lstNode2\n",
    "lstNode2.next=lstNode3\n",
    "\n",
    "lstNode4 =ListNode(5) \n",
    "lstNode5 =ListNode(6) \n",
    "lstNode6 =ListNode(4) \n",
    "lstNode4.next=lstNode5\n",
    "lstNode5.next=lstNode6\n",
    "\n",
    "result = s.addTwoNumbers(lstNode1,lstNode4)\n",
    "resultStr = str(result.val)\n",
    "while result.next:\n",
    "    result=result.next\n",
    "    resultStr+=str(result.val)\n",
    "\n",
    "print('list1= [2,4,3]')\n",
    "print('list2= [5,6,4]')\n",
    "print('result= ',resultStr[::-1])\n",
    "\n",
    "\n",
    "\n",
    "\n"
   ],
   "outputs": [
    {
     "output_type": "stream",
     "name": "stdout",
     "text": [
      "result=  807\n"
     ]
    }
   ],
   "metadata": {}
  }
 ],
 "metadata": {
  "orig_nbformat": 4,
  "language_info": {
   "name": "python",
   "version": "3.8.1",
   "mimetype": "text/x-python",
   "codemirror_mode": {
    "name": "ipython",
    "version": 3
   },
   "pygments_lexer": "ipython3",
   "nbconvert_exporter": "python",
   "file_extension": ".py"
  },
  "kernelspec": {
   "name": "python3",
   "display_name": "Python 3.8.1 64-bit ('python3.8venv': virtualenv)"
  },
  "interpreter": {
   "hash": "df9d03984b83641a2505d1d16443fe5d25870b4c7aed6c932a1853d344d70fb3"
  }
 },
 "nbformat": 4,
 "nbformat_minor": 2
}