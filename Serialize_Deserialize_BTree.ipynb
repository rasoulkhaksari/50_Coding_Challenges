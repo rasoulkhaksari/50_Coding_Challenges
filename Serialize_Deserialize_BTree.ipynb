{
 "cells": [
  {
   "cell_type": "markdown",
   "source": [
    "## **Serialize and Deserialize Binary Tree**\n",
    "---\n",
    "Serialization is the process of converting a data structure or object into a sequence of bits so that it can be stored in a file or memory buffer, or transmitted across a network connection link to be reconstructed later in the same or another computer environment.\n",
    "\n",
    "Design an algorithm to serialize and deserialize a binary tree. There is no restriction on how your serialization/deserialization algorithm should work. You just need to ensure that a binary tree can be serialized to a string and this string can be deserialized to the original tree structure."
   ],
   "metadata": {}
  },
  {
   "cell_type": "code",
   "execution_count": 1,
   "source": [
    "class TreeNode(object):\n",
    "    def __init__(self, x):\n",
    "        self.val = x\n",
    "        self.left = None\n",
    "        self.right = None\n",
    "\n",
    "\n",
    "class Codec:\n",
    "\n",
    "    def serialize(self, root):\n",
    "        \"\"\"Encodes a tree to a single string.\n",
    "        :type root: TreeNode\n",
    "        :rtype: str\n",
    "        \"\"\"\n",
    "        if(root is None):\n",
    "            return \"X#\"\n",
    "\n",
    "        leftSerialized = self.serialize(root.left)\n",
    "        rightSerialized = self.serialize(root.right)\n",
    "\n",
    "        return str(root.val)+\"#\"+leftSerialized+rightSerialized\n",
    "\n",
    "    def deserialize(self, data):\n",
    "        \"\"\"Decodes your encoded data to tree.\n",
    "        :type data: str\n",
    "        :rtype: TreeNode\n",
    "        \"\"\"\n",
    "\n",
    "        def dfs():\n",
    "            val = next(data)\n",
    "            if val == 'X':\n",
    "                return None\n",
    "            node = TreeNode(int(val))\n",
    "\n",
    "            node.left = dfs()\n",
    "            node.right = dfs()\n",
    "\n",
    "            return node\n",
    "\n",
    "        data = iter(data.split(\"#\"))\n",
    "        return dfs()\n",
    "\n",
    "\n",
    "# Your Codec object will be instantiated and called as such:\n",
    "\n",
    "root=TreeNode(5)\n",
    "node2=TreeNode(3)\n",
    "node3=TreeNode(6)\n",
    "node4=TreeNode(2)\n",
    "node5=TreeNode(4)\n",
    "node6=TreeNode(1)\n",
    "\n",
    "root.left=node2\n",
    "root.right=node3\n",
    "node2.left=node4\n",
    "node2.right=node5\n",
    "node4.left=node6 \n",
    "\n",
    "codec = Codec()\n",
    "serialized = codec.serialize(root)\n",
    "print('serialized: ',serialized)\n",
    "print (\"deserialized: \",codec.deserialize(serialized))"
   ],
   "outputs": [
    {
     "output_type": "stream",
     "name": "stdout",
     "text": [
      "serialized:  5#3#2#1#X#X#X#4#X#X#6#X#X#\n",
      "deserialized:  <__main__.TreeNode object at 0x7f8cdc0ef2b0>\n"
     ]
    }
   ],
   "metadata": {}
  }
 ],
 "metadata": {
  "orig_nbformat": 4,
  "language_info": {
   "name": "python",
   "version": "3.8.1",
   "mimetype": "text/x-python",
   "codemirror_mode": {
    "name": "ipython",
    "version": 3
   },
   "pygments_lexer": "ipython3",
   "nbconvert_exporter": "python",
   "file_extension": ".py"
  },
  "kernelspec": {
   "name": "python3",
   "display_name": "Python 3.8.1 64-bit ('python3.8venv': virtualenv)"
  },
  "interpreter": {
   "hash": "df9d03984b83641a2505d1d16443fe5d25870b4c7aed6c932a1853d344d70fb3"
  }
 },
 "nbformat": 4,
 "nbformat_minor": 2
}