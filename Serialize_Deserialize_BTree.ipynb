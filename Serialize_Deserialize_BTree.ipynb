{
 "cells": [
  {
   "cell_type": "code",
   "execution_count": 2,
   "source": [
    "class TreeNode(object):\n",
    "    def __init__(self, x):\n",
    "        self.val = x\n",
    "        self.left = None\n",
    "        self.right = None\n",
    "\n",
    "\n",
    "class Codec:\n",
    "\n",
    "    def serialize(self, root):\n",
    "        \"\"\"Encodes a tree to a single string.\n",
    "        :type root: TreeNode\n",
    "        :rtype: str\n",
    "        \"\"\"\n",
    "        if(root is None):\n",
    "            return \"X#\"\n",
    "\n",
    "        leftSerialized = self.serialize(root.left)\n",
    "        rightSerialized = self.serialize(root.right)\n",
    "\n",
    "        return str(root.val)+\"#\"+leftSerialized+rightSerialized\n",
    "\n",
    "    def deserialize(self, data):\n",
    "        \"\"\"Decodes your encoded data to tree.\n",
    "        :type data: str\n",
    "        :rtype: TreeNode\n",
    "        \"\"\"\n",
    "\n",
    "        def dfs():\n",
    "            val = next(data)\n",
    "            if val == 'X':\n",
    "                return None\n",
    "            node = TreeNode(int(val))\n",
    "\n",
    "            node.left = dfs()\n",
    "            node.right = dfs()\n",
    "\n",
    "            return node\n",
    "\n",
    "        data = iter(data.split(\"#\"))\n",
    "        return dfs()\n",
    "\n",
    "\n",
    "# Your Codec object will be instantiated and called as such:\n",
    "\n",
    "root=TreeNode(5)\n",
    "node2=TreeNode(3)\n",
    "node3=TreeNode(6)\n",
    "node4=TreeNode(2)\n",
    "node5=TreeNode(4)\n",
    "node6=TreeNode(1)\n",
    "\n",
    "root.left=node2\n",
    "root.right=node3\n",
    "node2.left=node4\n",
    "node2.right=node5\n",
    "node4.left=node6\n",
    "\n",
    "codec = Codec()\n",
    "serialized = codec.serialize(root)\n",
    "print('serialized: ',serialized)\n",
    "print (\"deserialized: \",codec.deserialize(serialized))"
   ],
   "outputs": [
    {
     "output_type": "stream",
     "name": "stdout",
     "text": [
      "serialized:  5#3#2#1#X#X#X#4#X#X#6#X#X#\n"
     ]
    },
    {
     "output_type": "error",
     "ename": "TypeError",
     "evalue": "deserialize() missing 1 required positional argument: 'data'",
     "traceback": [
      "\u001b[0;31m---------------------------------------------------------------------------\u001b[0m",
      "\u001b[0;31mTypeError\u001b[0m                                 Traceback (most recent call last)",
      "\u001b[0;32m<ipython-input-2-cc2291a6d890>\u001b[0m in \u001b[0;36m<module>\u001b[0;34m\u001b[0m\n\u001b[1;32m     60\u001b[0m \u001b[0mserialized\u001b[0m \u001b[0;34m=\u001b[0m \u001b[0mcodec\u001b[0m\u001b[0;34m.\u001b[0m\u001b[0mserialize\u001b[0m\u001b[0;34m(\u001b[0m\u001b[0mroot\u001b[0m\u001b[0;34m)\u001b[0m\u001b[0;34m\u001b[0m\u001b[0;34m\u001b[0m\u001b[0m\n\u001b[1;32m     61\u001b[0m \u001b[0mprint\u001b[0m\u001b[0;34m(\u001b[0m\u001b[0;34m'serialized: '\u001b[0m\u001b[0;34m,\u001b[0m\u001b[0mserialized\u001b[0m\u001b[0;34m)\u001b[0m\u001b[0;34m\u001b[0m\u001b[0;34m\u001b[0m\u001b[0m\n\u001b[0;32m---> 62\u001b[0;31m \u001b[0mprint\u001b[0m \u001b[0;34m(\u001b[0m\u001b[0;34m\"deserialized: \"\u001b[0m\u001b[0;34m,\u001b[0m\u001b[0mcodec\u001b[0m\u001b[0;34m.\u001b[0m\u001b[0mdeserialize\u001b[0m\u001b[0;34m(\u001b[0m\u001b[0;34m)\u001b[0m\u001b[0;34m)\u001b[0m\u001b[0;34m\u001b[0m\u001b[0;34m\u001b[0m\u001b[0m\n\u001b[0m",
      "\u001b[0;31mTypeError\u001b[0m: deserialize() missing 1 required positional argument: 'data'"
     ]
    }
   ],
   "metadata": {}
  }
 ],
 "metadata": {
  "orig_nbformat": 4,
  "language_info": {
   "name": "python",
   "version": "3.8.1",
   "mimetype": "text/x-python",
   "codemirror_mode": {
    "name": "ipython",
    "version": 3
   },
   "pygments_lexer": "ipython3",
   "nbconvert_exporter": "python",
   "file_extension": ".py"
  },
  "kernelspec": {
   "name": "python3",
   "display_name": "Python 3.8.1 64-bit ('python3.8venv': virtualenv)"
  },
  "interpreter": {
   "hash": "df9d03984b83641a2505d1d16443fe5d25870b4c7aed6c932a1853d344d70fb3"
  }
 },
 "nbformat": 4,
 "nbformat_minor": 2
}