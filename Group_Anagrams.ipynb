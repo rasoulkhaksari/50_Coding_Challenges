{
 "cells": [
  {
   "cell_type": "markdown",
   "source": [
    "## **Group Anagrams**\n",
    "---\n",
    "Given an array of strings strs, group the anagrams together. You can return the answer in any order.\n",
    "\n",
    "An Anagram is a word or phrase formed by rearranging the letters of a different word or phrase, typically using all the original letters exactly once.\n",
    "\n",
    "\n",
    "**Example:**\n",
    "\n",
    "**Input:** strs = [\"eat\",\"tea\",\"tan\",\"ate\",\"nat\",\"bat\"]  \n",
    "**Output:** [[\"bat\"],[\"nat\",\"tan\"],[\"ate\",\"eat\",\"tea\"]]\n"
   ],
   "metadata": {}
  },
  {
   "cell_type": "code",
   "execution_count": 1,
   "source": [
    "class Solution:\n",
    "    def findHash(self,s):\n",
    "        return ''.join(sorted(s))\n",
    "        \n",
    "    def groupAnagrams(self, strs: list) -> list:\n",
    "        answers = []\n",
    "        m = {}\n",
    "\n",
    "        for s in strs:\n",
    "            hashed = self.findHash(s)\n",
    "            if(hashed not in m):\n",
    "                m[hashed] = []\n",
    "            m[hashed].append(s)\n",
    "        \n",
    "        for p in m.values():\n",
    "            answers.append(p)\n",
    "        \n",
    "        return answers\n",
    "\n",
    "\n",
    "s=Solution()\n",
    "input = [\"eat\",\"tea\",\"tan\",\"ate\",\"nat\",\"bat\"]\n",
    "print(f\"Group anagrams for input {input} is:\\n {s.groupAnagrams(input)}\")"
   ],
   "outputs": [
    {
     "output_type": "stream",
     "name": "stdout",
     "text": [
      "Group anagrams for input ['eat', 'tea', 'tan', 'ate', 'nat', 'bat'] is:\n",
      " [['eat', 'tea', 'ate'], ['tan', 'nat'], ['bat']]\n"
     ]
    }
   ],
   "metadata": {}
  }
 ],
 "metadata": {
  "orig_nbformat": 4,
  "language_info": {
   "name": "python",
   "version": "3.8.1",
   "mimetype": "text/x-python",
   "codemirror_mode": {
    "name": "ipython",
    "version": 3
   },
   "pygments_lexer": "ipython3",
   "nbconvert_exporter": "python",
   "file_extension": ".py"
  },
  "kernelspec": {
   "name": "python3",
   "display_name": "Python 3.8.1 64-bit ('python3.8venv': virtualenv)"
  },
  "interpreter": {
   "hash": "df9d03984b83641a2505d1d16443fe5d25870b4c7aed6c932a1853d344d70fb3"
  }
 },
 "nbformat": 4,
 "nbformat_minor": 2
}