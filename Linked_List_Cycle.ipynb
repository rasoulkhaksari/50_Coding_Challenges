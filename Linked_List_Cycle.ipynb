{
 "cells": [
  {
   "cell_type": "markdown",
   "source": [
    "## **Linked List Cycle**\n",
    "---\n",
    "Given head, the head of a linked list, determine if the linked list has a cycle in it.\n",
    "\n",
    "There is a cycle in a linked list if there is some node in the list that can be reached again by continuously following the next pointer. Internally, pos is used to denote the index of the node that tail's next pointer is connected to. Note that pos is not passed as a parameter.\n",
    "\n",
    "Return true if there is a cycle in the linked list. Otherwise, return false.\n",
    "\n",
    " \n",
    "\n",
    "**Example:**  \n",
    "**Input:** head = [3,2,0,-4], pos = 1  \n",
    "**Output:** true  \n",
    "**Explanation:** There is a cycle in the linked list, where the tail connects to the 1st node (0-indexed)."
   ],
   "metadata": {}
  },
  {
   "cell_type": "code",
   "execution_count": 2,
   "source": [
    "class ListNode:\n",
    "    def __init__(self, x):\n",
    "        self.val = x\n",
    "        self.next = None\n",
    "\n",
    "class Solution:\n",
    "    def hasCycle(self, head: ListNode) -> bool:\n",
    "        hare = head\n",
    "        turtle = head\n",
    "\n",
    "        while turtle and hare and hare.next:\n",
    "            hare = hare.next.next\n",
    "            turtle = turtle.next\n",
    "            if(turtle == hare):\n",
    "                return True\n",
    "        return False\n",
    "\n",
    "s=Solution()\n",
    "lstNode1 = ListNode(3)\n",
    "lstNode2 = ListNode(2)\n",
    "lstNode3 = ListNode(0)\n",
    "lstNode4 = ListNode(-4)\n",
    "lstNode1.next=lstNode2\n",
    "lstNode2.next=lstNode3\n",
    "lstNode3.next=lstNode4\n",
    "lstNode4.next=lstNode2\n",
    "\n",
    "print(\"Has linked list any cycle? \",s.hasCycle(lstNode1))\n"
   ],
   "outputs": [
    {
     "output_type": "stream",
     "name": "stdout",
     "text": [
      "Has linked list any cycle?  True\n"
     ]
    }
   ],
   "metadata": {}
  }
 ],
 "metadata": {
  "orig_nbformat": 4,
  "language_info": {
   "name": "python",
   "version": "3.8.1",
   "mimetype": "text/x-python",
   "codemirror_mode": {
    "name": "ipython",
    "version": 3
   },
   "pygments_lexer": "ipython3",
   "nbconvert_exporter": "python",
   "file_extension": ".py"
  },
  "kernelspec": {
   "name": "python3",
   "display_name": "Python 3.8.1 64-bit ('python3.8venv': virtualenv)"
  },
  "interpreter": {
   "hash": "df9d03984b83641a2505d1d16443fe5d25870b4c7aed6c932a1853d344d70fb3"
  }
 },
 "nbformat": 4,
 "nbformat_minor": 2
}