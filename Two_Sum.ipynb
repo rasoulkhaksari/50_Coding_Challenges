{
 "cells": [
  {
   "cell_type": "markdown",
   "source": [
    "## **Two Sum**\n",
    "---\n",
    "Given an array of integers nums and an integer target, return indices of the two numbers such that they add up to target.\n",
    "\n",
    "You may assume that each input would have exactly one solution, and you may not use the same element twice.\n",
    "\n",
    "You can return the answer in any order.\n",
    "\n",
    " \n",
    "\n",
    "**Example:**\n",
    "\n",
    "**Input:** nums = [2,7,11,15], target = 9  \n",
    "**Output:** [0,1]  \n",
    "**Output:** Because nums[0] + nums[1] == 9, we return [0, 1].\n"
   ],
   "metadata": {}
  },
  {
   "cell_type": "code",
   "execution_count": 2,
   "source": [
    "class Solution:\n",
    "    def twoSum(self, nums: list, target: int) -> list:\n",
    "        m = {}\n",
    "        n = len(nums)\n",
    "        for i in range(0,n):\n",
    "            goal = target - nums[i]\n",
    "            if(goal in m):\n",
    "                return [m[goal], i]\n",
    "            m[nums[i]] = i\n",
    "\n",
    "\n",
    "s=Solution()\n",
    "input = [2,7,11,15]\n",
    "target = 9  \n",
    "\n",
    "print(f\"input={input}\\nIndices of two numbers which add up to target:{target} is: {s.twoSum(input,target)}\")"
   ],
   "outputs": [
    {
     "output_type": "stream",
     "name": "stdout",
     "text": [
      "input=[2, 7, 11, 15]\n",
      "Indices of two numbers which add up to target:9 is: [0, 1]\n"
     ]
    }
   ],
   "metadata": {}
  }
 ],
 "metadata": {
  "orig_nbformat": 4,
  "language_info": {
   "name": "python",
   "version": "3.8.1",
   "mimetype": "text/x-python",
   "codemirror_mode": {
    "name": "ipython",
    "version": 3
   },
   "pygments_lexer": "ipython3",
   "nbconvert_exporter": "python",
   "file_extension": ".py"
  },
  "kernelspec": {
   "name": "python3",
   "display_name": "Python 3.8.1 64-bit ('python3.8venv': virtualenv)"
  },
  "interpreter": {
   "hash": "df9d03984b83641a2505d1d16443fe5d25870b4c7aed6c932a1853d344d70fb3"
  }
 },
 "nbformat": 4,
 "nbformat_minor": 2
}