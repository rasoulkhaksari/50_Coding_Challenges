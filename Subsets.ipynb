{
 "cells": [
  {
   "cell_type": "markdown",
   "source": [
    "## **Subsets**\n",
    "---\n",
    "Given an integer array nums of unique elements, return all possible subsets (the power set).\n",
    "\n",
    "The solution set must not contain duplicate subsets. Return the solution in any order.\n",
    "\n",
    " \n",
    "\n",
    "**Example:**\n",
    "\n",
    "**Input:** nums = [1,2,3]  \n",
    "**Output:** [[],[1],[2],[1,2],[3],[1,3],[2,3],[1,2,3]]\n"
   ],
   "metadata": {}
  },
  {
   "cell_type": "code",
   "execution_count": null,
   "source": [
    "class Solution:\n",
    "    def solution(self,nums,ans,cur,index):\n",
    "        if(index>len(nums)):\n",
    "            return\n",
    "        ans.append(cur[:])\n",
    "        for i in range(index,len(nums)):\n",
    "            if(nums[i] not in cur):\n",
    "                cur.append(nums[i])\n",
    "                self.solution(nums,ans,cur,i)\n",
    "                cur.pop()\n",
    "        return \n",
    "    def subsets(self, nums: list) -> list:\n",
    "        ans = []\n",
    "        cur = []\n",
    "        self.solution(nums,ans,cur,0)\n",
    "        return ans\n",
    "\n",
    "\n",
    "s=Solution()\n",
    "input = [1,2,3]\n",
    "print('input=\\t',input)\n",
    "print('output=\\t',s.subsets(input))"
   ],
   "outputs": [],
   "metadata": {}
  }
 ],
 "metadata": {
  "orig_nbformat": 4,
  "language_info": {
   "name": "python"
  }
 },
 "nbformat": 4,
 "nbformat_minor": 2
}