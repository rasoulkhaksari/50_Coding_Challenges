{
 "cells": [
  {
   "cell_type": "markdown",
   "source": [
    "## **Trapping Rain Water**\n",
    "---\n",
    "Given n non-negative integers representing an elevation map where the width of each bar is 1, compute how much water it can trap after raining.\n",
    "\n",
    " \n",
    "\n",
    "**Example:**\n",
    "\n",
    "**Input:** height = [0,1,0,2,1,0,1,3,2,1,2,1]  \n",
    "**Output:** 6  \n",
    "**Explanation:** The above elevation map (black section) is represented by array [0,1,0,2,1,0,1,3,2,1,2,1]. In this case, 6 units of rain water (blue section) are being trapped.\n",
    "\n",
    "\n",
    "\n",
    "![water](./asset/rainwatertrap.png)\n",
    "\n"
   ],
   "metadata": {}
  },
  {
   "cell_type": "code",
   "execution_count": 1,
   "source": [
    "class Solution:\n",
    "    def trap(self, height: list) -> int:\n",
    "        n = len(height)\n",
    "        if(n == 0):\n",
    "            return 0\n",
    "\n",
    "        left = [0]*n\n",
    "        right = [0] * n\n",
    "\n",
    "        ans = 0\n",
    "\n",
    "        left[0] = height[0]\n",
    "\n",
    "        for i in range(1, n):\n",
    "            left[i] = max(left[i-1], height[i])\n",
    "\n",
    "        right[n-1] = height[n-1]\n",
    "\n",
    "        for i in range(n-2, -1, -1):\n",
    "            right[i] = max(right[i+1], height[i])\n",
    "\n",
    "        for i in range(0, n):\n",
    "            ans += min(left[i], right[i])-height[i]\n",
    "\n",
    "        return ans\n",
    "\n",
    "\n",
    "s=Solution()\n",
    "heights = [0,1,0,2,1,0,1,3,2,1,2,1]\n",
    "print(f\"Input:\\theights = {heights}\")\n",
    "print(\"Output:\\t\",s.trap(heights))"
   ],
   "outputs": [],
   "metadata": {}
  }
 ],
 "metadata": {
  "orig_nbformat": 4,
  "language_info": {
   "name": "python",
   "version": "3.8.1",
   "mimetype": "text/x-python",
   "codemirror_mode": {
    "name": "ipython",
    "version": 3
   },
   "pygments_lexer": "ipython3",
   "nbconvert_exporter": "python",
   "file_extension": ".py"
  },
  "kernelspec": {
   "name": "python3",
   "display_name": "Python 3.8.1 64-bit ('python3.8venv': virtualenv)"
  },
  "interpreter": {
   "hash": "df9d03984b83641a2505d1d16443fe5d25870b4c7aed6c932a1853d344d70fb3"
  }
 },
 "nbformat": 4,
 "nbformat_minor": 2
}