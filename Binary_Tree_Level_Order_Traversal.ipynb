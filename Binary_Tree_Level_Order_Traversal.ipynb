{
 "cells": [
  {
   "cell_type": "markdown",
   "source": [
    "## **Binary Tree Level Order Traversal**\n",
    "---\n",
    "Given the root of a binary tree, return the level order traversal of its nodes' values. (i.e., from left to right, level by level).\n",
    "\n",
    "**Example**  \n",
    "**Input:** root = [3,9,20,null,null,15,7]  \n",
    "**Output:** [[3],[9,20],[15,7]]\n"
   ],
   "metadata": {}
  },
  {
   "cell_type": "code",
   "execution_count": 1,
   "source": [
    "class TreeNode:\n",
    "    def __init__(self, x):\n",
    "        self.val = x\n",
    "        self.left = None\n",
    "        self.right = None\n",
    "\n",
    "from collections import deque\n",
    "\n",
    "class Solution:\n",
    "    def levelOrder(self, root: TreeNode) -> list:\n",
    "        ans = []\n",
    "\n",
    "        if(root is None):\n",
    "            return ans\n",
    "        \n",
    "        q = deque([root])\n",
    "\n",
    "        while(q):\n",
    "            n = len(q)\n",
    "            temp = []\n",
    "            for i in range(0,n):\n",
    "                f = q.popleft()\n",
    "                temp.append(f.val)\n",
    "\n",
    "                if(f.left is not None):\n",
    "                    q.append(f.left)\n",
    "                if(f.right is not None):\n",
    "                    q.append(f.right)\n",
    "\n",
    "            if(len(temp)>0):\n",
    "                ans.append(temp[:])\n",
    "                temp.clear()\n",
    "        return ans\n",
    "\n",
    "\n",
    "\n",
    "s=Solution()\n",
    "node1=TreeNode(3)\n",
    "node2=TreeNode(9)\n",
    "node3=TreeNode(20)\n",
    "node4=TreeNode(15)\n",
    "node5=TreeNode(7)\n",
    "node1.left=node2\n",
    "node1.right=node3\n",
    "node3.left = node4\n",
    "node3.right=node5\n",
    "print(\"output: \",s.levelOrder(node1))"
   ],
   "outputs": [
    {
     "output_type": "stream",
     "name": "stdout",
     "text": [
      "output:  [[3], [9, 20], [15, 7]]\n"
     ]
    }
   ],
   "metadata": {}
  }
 ],
 "metadata": {
  "orig_nbformat": 4,
  "language_info": {
   "name": "python",
   "version": "3.8.1",
   "mimetype": "text/x-python",
   "codemirror_mode": {
    "name": "ipython",
    "version": 3
   },
   "pygments_lexer": "ipython3",
   "nbconvert_exporter": "python",
   "file_extension": ".py"
  },
  "kernelspec": {
   "name": "python3",
   "display_name": "Python 3.8.1 64-bit ('python3.8venv': virtualenv)"
  },
  "interpreter": {
   "hash": "df9d03984b83641a2505d1d16443fe5d25870b4c7aed6c932a1853d344d70fb3"
  }
 },
 "nbformat": 4,
 "nbformat_minor": 2
}