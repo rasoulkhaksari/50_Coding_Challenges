{
 "cells": [
  {
   "cell_type": "markdown",
   "source": [
    "## **Sliding Window Maximum Sum**\n",
    "---\n",
    "You are given an array of integers nums, there is a sliding window of size k which is moving from the very left of the array to the very right. You can only see the k numbers in the window. Each time the sliding window moves right by one position.\n",
    "\n",
    "Return the max sum sliding window.\n",
    "\n",
    "**Example:**\n",
    "\n",
    "Input: nums = [1,3,-1,-3,5,3,6,7], k = 3\n",
    "\n",
    "Output: 16\n",
    "\n",
    "Explanation: \n",
    "\n",
    "| Window position           | MaxSum |\n",
    "| ---------------           |   :-:  |\n",
    "| [1  3  -1] -3  5  3  6  7 |    3   |\n",
    "| 1 [3  -1  -3] 5  3  6  7  |    -1  |\n",
    "| 1  3 [-1  -3  5] 3  6  7  |     1  |\n",
    "| 1  3  -1 [-3  5  3] 6  7  |     5  |\n",
    "| 1  3  -1  -3 [5  3  6] 7  |     14 |\n",
    "| 1  3  -1  -3  5 [3  6  7] |     16 |\n",
    "\n",
    "\n"
   ],
   "metadata": {}
  },
  {
   "cell_type": "code",
   "execution_count": 1,
   "source": [
    "class Solution:\n",
    "    def maxSum(self,input, windowSize):\n",
    "        arraySize = len(input)\n",
    "        # n must be greater than k\n",
    "        if arraySize <= windowSize:\n",
    "            print(\"Invalid operation\")\n",
    "            return -1\n",
    "\n",
    "        # Compute sum of first window of size k\n",
    "        window_sum = sum([input[i] for i in range(windowSize)])\n",
    "        max_sum = window_sum\n",
    "        # Compute sums of remaining windows by\n",
    "        # removing first element of previous\n",
    "        # window and adding last element of\n",
    "        # current window.\n",
    "        for i in range(arraySize-windowSize):\n",
    "            window_sum = window_sum - input[i] + input[i + windowSize]\n",
    "            max_sum = max(window_sum, max_sum)\n",
    "\n",
    "        return max_sum\n",
    "\n",
    "s=Solution()\n",
    "input = [1,3,-1,-3,5,3,6,7]\n",
    "answer = s.maxSum(input, 3)\n",
    "print('input: ',input,'\\nanswer: ',answer)\n",
    "\n"
   ],
   "outputs": [
    {
     "output_type": "stream",
     "name": "stdout",
     "text": [
      "input:  [1, 3, -1, -3, 5, 3, 6, 7] \n",
      "answer:  16\n"
     ]
    }
   ],
   "metadata": {}
  }
 ],
 "metadata": {
  "orig_nbformat": 4,
  "language_info": {
   "name": "python",
   "version": "3.8.1",
   "mimetype": "text/x-python",
   "codemirror_mode": {
    "name": "ipython",
    "version": 3
   },
   "pygments_lexer": "ipython3",
   "nbconvert_exporter": "python",
   "file_extension": ".py"
  },
  "kernelspec": {
   "name": "python3",
   "display_name": "Python 3.8.1 64-bit ('python3.8venv': virtualenv)"
  },
  "interpreter": {
   "hash": "df9d03984b83641a2505d1d16443fe5d25870b4c7aed6c932a1853d344d70fb3"
  }
 },
 "nbformat": 4,
 "nbformat_minor": 2
}