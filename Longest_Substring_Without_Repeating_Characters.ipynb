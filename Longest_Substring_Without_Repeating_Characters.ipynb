{
 "cells": [
  {
   "cell_type": "markdown",
   "source": [
    "## **Longest Substring Without Repeating Characters**\n",
    "---\n",
    "Given a string s, find the length of the longest substring without repeating characters.\n",
    "\n",
    "**Example:**\n",
    "\n",
    "**Input:** s = \"abcabcbb\"  \n",
    "**Output:** 3  \n",
    "**Explanation:** The answer is \"abc\", with the length of 3.\n",
    "\n"
   ],
   "metadata": {}
  },
  {
   "cell_type": "code",
   "execution_count": 1,
   "source": [
    "class Solution:\n",
    "    def lengthOfLongestSubstring(self, s: str) -> int:\n",
    "        m = {}\n",
    "        left = 0\n",
    "        right = 0\n",
    "        ans = 0\n",
    "        n = len(s)\n",
    "        while(left<n and right<n):\n",
    "            el = s[right]\n",
    "            if(el in m):\n",
    "                left = max(left,m[el]+1)\n",
    "            m[el] = right\n",
    "            ans = max(ans,right-left+1)\n",
    "            right+=1\n",
    "        return ans\n",
    "\n",
    "s=Solution()\n",
    "input = \"abcabcbb\"\n",
    "print(f\"Longest Substring Without Repeating Characters for input='abcabcbb' is: \",s.lengthOfLongestSubstring(input))"
   ],
   "outputs": [
    {
     "output_type": "stream",
     "name": "stdout",
     "text": [
      "Longest Substring Without Repeating Characters for input='abcabcbb' is:  3\n"
     ]
    }
   ],
   "metadata": {}
  }
 ],
 "metadata": {
  "orig_nbformat": 4,
  "language_info": {
   "name": "python",
   "version": "3.8.1",
   "mimetype": "text/x-python",
   "codemirror_mode": {
    "name": "ipython",
    "version": 3
   },
   "pygments_lexer": "ipython3",
   "nbconvert_exporter": "python",
   "file_extension": ".py"
  },
  "kernelspec": {
   "name": "python3",
   "display_name": "Python 3.8.1 64-bit ('python3.8venv': virtualenv)"
  },
  "interpreter": {
   "hash": "df9d03984b83641a2505d1d16443fe5d25870b4c7aed6c932a1853d344d70fb3"
  }
 },
 "nbformat": 4,
 "nbformat_minor": 2
}