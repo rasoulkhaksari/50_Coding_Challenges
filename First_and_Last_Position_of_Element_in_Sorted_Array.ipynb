{
 "cells": [
  {
   "cell_type": "markdown",
   "source": [
    "## **First and Last Position of Element in Sorted Array**\n",
    "---\n",
    "Given an array of integers nums sorted in ascending order, find the starting and ending position of a given target value.\n",
    "\n",
    "If target is not found in the array, return [-1, -1].\n",
    "\n",
    "You must write an algorithm with O(log n) runtime complexity.\n",
    "\n",
    " \n",
    "\n",
    "**Example:**\n",
    "\n",
    "**Input:** nums = [5,7,7,8,8,10], target = 8  \n",
    "**Output:** [3,4]\n"
   ],
   "metadata": {}
  },
  {
   "cell_type": "code",
   "execution_count": 3,
   "source": [
    "class Solution:\n",
    "    def getLeftPosition(self, nums, target):\n",
    "        left = 0\n",
    "        right = len(nums)-1\n",
    "\n",
    "        while(left <= right):\n",
    "            mid = left+(right-left)//2\n",
    "            if(nums[mid] == target):\n",
    "                if(mid-1 >= 0 and nums[mid-1] != target or mid == 0):\n",
    "                    return mid\n",
    "                right = mid-1\n",
    "            elif(nums[mid] > target):\n",
    "                right = mid-1\n",
    "            else:\n",
    "                left = mid+1\n",
    "\n",
    "        return -1\n",
    "\n",
    "    def getRightPosition(self, nums, target):\n",
    "        left = 0\n",
    "        right = len(nums)-1\n",
    "\n",
    "        while(left <= right):\n",
    "            mid = left+(right-left)//2\n",
    "            if(nums[mid] == target):\n",
    "                if(mid+1 < len(nums) and nums[mid+1] != target or mid == len(nums)-1):\n",
    "                    return mid\n",
    "                left = mid+1\n",
    "            elif(nums[mid] > target):\n",
    "                right = mid-1\n",
    "            else:\n",
    "                left = mid+1\n",
    "\n",
    "        return -1\n",
    "\n",
    "    def searchRange(self, nums: list, target: int) -> list:\n",
    "        left = self.getLeftPosition(nums, target)\n",
    "        right = self.getRightPosition(nums, target)\n",
    "\n",
    "        return [left, right]\n",
    "\n",
    "\n",
    "s=Solution()\n",
    "nums = [5,7,7,8,8,10]\n",
    "target = 8\n",
    "print(f\"First and Last Position of target={target} in Array={nums} is: \",s.searchRange(nums,target))"
   ],
   "outputs": [
    {
     "output_type": "stream",
     "name": "stdout",
     "text": [
      "First and Last Position of target=8 in Array=[5, 7, 7, 8, 8, 10] is:  [3, 4]\n"
     ]
    }
   ],
   "metadata": {}
  }
 ],
 "metadata": {
  "orig_nbformat": 4,
  "language_info": {
   "name": "python",
   "version": "3.8.1",
   "mimetype": "text/x-python",
   "codemirror_mode": {
    "name": "ipython",
    "version": 3
   },
   "pygments_lexer": "ipython3",
   "nbconvert_exporter": "python",
   "file_extension": ".py"
  },
  "kernelspec": {
   "name": "python3",
   "display_name": "Python 3.8.1 64-bit ('python3.8venv': virtualenv)"
  },
  "interpreter": {
   "hash": "df9d03984b83641a2505d1d16443fe5d25870b4c7aed6c932a1853d344d70fb3"
  }
 },
 "nbformat": 4,
 "nbformat_minor": 2
}