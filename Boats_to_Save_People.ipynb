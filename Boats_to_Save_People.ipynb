{
 "cells": [
  {
   "cell_type": "markdown",
   "source": [
    "## **Boats to Save People**\n",
    "---\n",
    "You are given an array people where people[i] is the weight of the ith person, and an infinite number of boats where each boat can carry a maximum weight of limit. Each boat carries at most two people at the same time, provided the sum of the weight of those people is at most limit.\n",
    "\n",
    "Return the minimum number of boats to carry every given person.\n",
    "\n",
    " \n",
    "\n",
    "**Example:**\n",
    "\n",
    "**Input:** people = [1,2], limit = 3  \n",
    "**Output:** 1  \n",
    "**Explanation:** 1 boat (1, 2)\n"
   ],
   "metadata": {}
  },
  {
   "cell_type": "code",
   "execution_count": 1,
   "source": [
    "class Solution:\n",
    "    def numRescueBoats(self, people: list, limit: int) -> int:\n",
    "        people.sort()\n",
    "\n",
    "        left = 0\n",
    "        right = len(people)-1\n",
    "\n",
    "        boats_number = 0\n",
    "\n",
    "        while(left<=right):\n",
    "            if(left==right):\n",
    "                boats_number+=1\n",
    "                break\n",
    "            if(people[left]+people[right]<=limit):\n",
    "                left+=1\n",
    "\n",
    "            right-=1\n",
    "            boats_number+=1\n",
    "        return boats_number\n",
    "\n",
    "\n",
    "s=Solution()\n",
    "people = [1,2]\n",
    "limit = 3\n",
    "print(f\"minimun number of boats need for people: {people} and limit: {limit} is: {s.numRescueBoats(people,limit)}\")\n",
    "\n"
   ],
   "outputs": [
    {
     "output_type": "stream",
     "name": "stdout",
     "text": [
      "minimun number of boats need for people: [1, 2] and limit: 3 is: 1\n"
     ]
    }
   ],
   "metadata": {}
  }
 ],
 "metadata": {
  "orig_nbformat": 4,
  "language_info": {
   "name": "python",
   "version": "3.8.1",
   "mimetype": "text/x-python",
   "codemirror_mode": {
    "name": "ipython",
    "version": 3
   },
   "pygments_lexer": "ipython3",
   "nbconvert_exporter": "python",
   "file_extension": ".py"
  },
  "kernelspec": {
   "name": "python3",
   "display_name": "Python 3.8.1 64-bit ('python3.8venv': virtualenv)"
  },
  "interpreter": {
   "hash": "df9d03984b83641a2505d1d16443fe5d25870b4c7aed6c932a1853d344d70fb3"
  }
 },
 "nbformat": 4,
 "nbformat_minor": 2
}