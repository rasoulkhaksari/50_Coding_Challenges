{
 "cells": [
  {
   "cell_type": "markdown",
   "source": [
    "## **Valid Parentheses**\n",
    "---\n",
    "Given a string s containing just the characters '(', ')', '{', '}', '[' and ']', determine if the input string is valid.\n",
    "\n",
    "An input string is valid if:\n",
    "\n",
    "- Open brackets must be closed by the same type of brackets.\n",
    "- Open brackets must be closed in the correct order.\n",
    "\n",
    " \n",
    "\n",
    "**Example:**\n",
    "\n",
    "**Input:** s = \"()\"  \n",
    "**Output:** true\n"
   ],
   "metadata": {}
  },
  {
   "cell_type": "code",
   "execution_count": 1,
   "source": [
    "class Solution:\n",
    "    def isEqual(self, c1, c2) -> bool:\n",
    "        if(c1 == '(' and c2 == ')'):\n",
    "            return True\n",
    "        if(c1 == '[' and c2 == ']'):\n",
    "            return True\n",
    "        if(c1 == '{' and c2 == '}'):\n",
    "            return True\n",
    "        return False\n",
    "\n",
    "    def isValid(self, s: str) -> bool:\n",
    "        st = []\n",
    "        for character in s:\n",
    "            if(len(st) != 0):\n",
    "                li = st[-1]\n",
    "                if(self.isEqual(li, character)):\n",
    "                    st.pop()\n",
    "                    continue\n",
    "            st.append(character)\n",
    "        return len(st) == 0\n",
    "\n",
    "\n",
    "s=Solution()\n",
    "input = \"()[]{}\"\n",
    "print(\"input: \",input)\n",
    "print('output: ',s.isValid(input))"
   ],
   "outputs": [
    {
     "output_type": "stream",
     "name": "stdout",
     "text": [
      "input:  ()[]{}\n",
      "output:  True\n"
     ]
    }
   ],
   "metadata": {}
  }
 ],
 "metadata": {
  "orig_nbformat": 4,
  "language_info": {
   "name": "python",
   "version": "3.8.1",
   "mimetype": "text/x-python",
   "codemirror_mode": {
    "name": "ipython",
    "version": 3
   },
   "pygments_lexer": "ipython3",
   "nbconvert_exporter": "python",
   "file_extension": ".py"
  },
  "kernelspec": {
   "name": "python3",
   "display_name": "Python 3.8.1 64-bit ('python3.8venv': virtualenv)"
  },
  "interpreter": {
   "hash": "df9d03984b83641a2505d1d16443fe5d25870b4c7aed6c932a1853d344d70fb3"
  }
 },
 "nbformat": 4,
 "nbformat_minor": 2
}