{
 "cells": [
  {
   "cell_type": "markdown",
   "source": [
    "## **Path Sum**\n",
    "---\n",
    "Given the root of a binary tree and an integer targetSum, return true if the tree has a root-to-leaf path such that adding up all the values along the path equals targetSum.\n",
    "\n",
    "A leaf is a node with no children.\n",
    "\n",
    " \n",
    "\n",
    "**Example:**\n",
    "\n",
    "**Input:** root = [5,4,8,11,null,13,4,7,2,null,null,null,1], targetSum = 22  \n",
    "**Output:** true\n",
    "\n",
    "![path sum](./asset/pathsum1.jpg)\n"
   ],
   "metadata": {}
  },
  {
   "cell_type": "code",
   "execution_count": 1,
   "source": [
    "class TreeNode:\n",
    "    def __init__(self, x):\n",
    "        self.val = x\n",
    "        self.left = None\n",
    "        self.right = None\n",
    "\n",
    "class Solution:\n",
    "    def hasSum(self,root,sum,cur):\n",
    "        if(root is None):\n",
    "            return False\n",
    "        cur+=root.val\n",
    "        if(cur==sum and root.left is None and root.right is None):\n",
    "            return True\n",
    "        return (self.hasSum(root.right,sum,cur) or self.hasSum(root.left,sum,cur))\n",
    "    def hasPathSum(self, root: TreeNode, sum: int) -> bool:\n",
    "        return self.hasSum(root,sum, 0)\n",
    "\n",
    "\n",
    "\n",
    "s=Solution()\n",
    "root=TreeNode(5)\n",
    "node2=TreeNode(4)\n",
    "node3=TreeNode(8)\n",
    "node4=TreeNode(11)\n",
    "node5=TreeNode(13)\n",
    "node6=TreeNode(4)\n",
    "node7=TreeNode(7)\n",
    "node8=TreeNode(2)\n",
    "node9=TreeNode(1)\n",
    "root.left=node2\n",
    "root.right=node3\n",
    "node2.left=node4\n",
    "node3.left=node5\n",
    "node3.right=node6\n",
    "node4.left=node7\n",
    "node4.right=node8\n",
    "node6.right=node9\n",
    "\n",
    "targetSum = 22\n",
    "\n",
    "print('input= [5,4,8,11,null,13,4,7,2,null,null,null,1], targetSum = 22')\n",
    "print('output= ',s.hasPathSum(root,targetSum))"
   ],
   "outputs": [],
   "metadata": {}
  }
 ],
 "metadata": {
  "orig_nbformat": 4,
  "language_info": {
   "name": "python",
   "version": "3.8.1",
   "mimetype": "text/x-python",
   "codemirror_mode": {
    "name": "ipython",
    "version": 3
   },
   "pygments_lexer": "ipython3",
   "nbconvert_exporter": "python",
   "file_extension": ".py"
  },
  "kernelspec": {
   "name": "python3",
   "display_name": "Python 3.8.1 64-bit ('python3.8venv': virtualenv)"
  },
  "interpreter": {
   "hash": "df9d03984b83641a2505d1d16443fe5d25870b4c7aed6c932a1853d344d70fb3"
  }
 },
 "nbformat": 4,
 "nbformat_minor": 2
}