{
 "cells": [
  {
   "cell_type": "markdown",
   "source": [
    "## **First Bad Version**\n",
    "---\n",
    "You are a product manager and currently leading a team to develop a new product. Unfortunately, the latest version of your product fails the quality check. Since each version is developed based on the previous version, all the versions after a bad version are also bad.\n",
    "\n",
    "Suppose you have n versions [1, 2, ..., n] and you want to find out the first bad one, which causes all the following ones to be bad.\n",
    "\n",
    "You are given an API bool isBadVersion(version) which returns whether version is bad. Implement a function to find the first bad version. You should minimize the number of calls to the API.\n",
    "\n",
    "**Example:**\n",
    "\n",
    "Input: n = 5, bad = 4  \n",
    "Output: 4  \n",
    "Explanation:  \n",
    "call isBadVersion(3) -> false  \n",
    "call isBadVersion(5) -> true  \n",
    "call isBadVersion(4) -> true  \n",
    "Then 4 is the first bad version.  \n"
   ],
   "metadata": {}
  },
  {
   "cell_type": "code",
   "execution_count": 2,
   "source": [
    "class Solution:\n",
    "    def __init__(self,bad) -> None:\n",
    "        self.badVersion = bad\n",
    "    \n",
    "    def isBadVersion(self,v):\n",
    "        return v >= self.badVersion\n",
    "\n",
    "    def firstBadVersion(self, n):\n",
    "        left = 1\n",
    "        right = n\n",
    "\n",
    "        while(left < right):\n",
    "            mid = left+(right-left)//2\n",
    "            if not self.isBadVersion(mid):\n",
    "                left = mid+1\n",
    "            else:\n",
    "                right = mid\n",
    "        return left\n",
    "n=5\n",
    "bad=4\n",
    "s=Solution(bad)\n",
    "print(f\"for n={n} and bad={bad} first bad version is: {s.firstBadVersion(n)}\")\n"
   ],
   "outputs": [
    {
     "output_type": "stream",
     "name": "stdout",
     "text": [
      "for n=5 and bad=2 first bad version is: 2\n"
     ]
    }
   ],
   "metadata": {}
  }
 ],
 "metadata": {
  "orig_nbformat": 4,
  "language_info": {
   "name": "python",
   "version": "3.8.1",
   "mimetype": "text/x-python",
   "codemirror_mode": {
    "name": "ipython",
    "version": 3
   },
   "pygments_lexer": "ipython3",
   "nbconvert_exporter": "python",
   "file_extension": ".py"
  },
  "kernelspec": {
   "name": "python3",
   "display_name": "Python 3.8.1 64-bit ('python3.8venv': virtualenv)"
  },
  "interpreter": {
   "hash": "df9d03984b83641a2505d1d16443fe5d25870b4c7aed6c932a1853d344d70fb3"
  }
 },
 "nbformat": 4,
 "nbformat_minor": 2
}