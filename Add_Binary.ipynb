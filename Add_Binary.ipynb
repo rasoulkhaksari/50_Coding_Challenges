{
 "cells": [
  {
   "cell_type": "markdown",
   "source": [
    "## **Add Binary**\n",
    "---\n",
    "Given two binary strings a and b, return their sum as a binary string.\n",
    "\n",
    "**Example:**\n",
    "\n",
    "**Input:** a = \"11\", b = \"1\"  \n",
    "**Output:** \"100\"\n"
   ],
   "metadata": {}
  },
  {
   "cell_type": "code",
   "execution_count": 1,
   "source": [
    "class Solution(object):\n",
    "    def addBinary(self, a, b):\n",
    "        result = []\n",
    "        carry = 0\n",
    "        i = len(a)-1\n",
    "        j = len(b)-1\n",
    "\n",
    "        while i >= 0 or j >= 0 or carry:\n",
    "            total = carry\n",
    "\n",
    "            if i >= 0:\n",
    "                total += int(a[i])\n",
    "                i -= 1\n",
    "            if j >= 0:\n",
    "                total += int(b[j])\n",
    "                j -= 1\n",
    "\n",
    "            result.append(str(total % 2))\n",
    "            carry = total//2\n",
    "\n",
    "        return ''.join(reversed(result))\n",
    "\n",
    "\n",
    "s=Solution()\n",
    "a = \"11\"\n",
    "b = \"1\"\n",
    "print(f\"Binary sum of a={a} and b={b} is: {s.addBinary(a,b)}\")"
   ],
   "outputs": [
    {
     "output_type": "stream",
     "name": "stdout",
     "text": [
      "Binary sum of a=11 and b=1 is: 100\n"
     ]
    }
   ],
   "metadata": {}
  }
 ],
 "metadata": {
  "orig_nbformat": 4,
  "language_info": {
   "name": "python",
   "version": "3.8.1",
   "mimetype": "text/x-python",
   "codemirror_mode": {
    "name": "ipython",
    "version": 3
   },
   "pygments_lexer": "ipython3",
   "nbconvert_exporter": "python",
   "file_extension": ".py"
  },
  "kernelspec": {
   "name": "python3",
   "display_name": "Python 3.8.1 64-bit ('python3.8venv': virtualenv)"
  },
  "interpreter": {
   "hash": "df9d03984b83641a2505d1d16443fe5d25870b4c7aed6c932a1853d344d70fb3"
  }
 },
 "nbformat": 4,
 "nbformat_minor": 2
}