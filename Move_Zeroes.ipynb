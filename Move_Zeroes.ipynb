{
 "cells": [
  {
   "cell_type": "markdown",
   "source": [
    "## **Move Zeroes**\n",
    "Given an integer array nums, move all 0's to the end of it while maintaining the relative order of the non-zero elements.\n",
    "\n",
    "Note that you must do this in-place without making a copy of the array.\n",
    "\n",
    " \n",
    "\n",
    "**Example 1:**\n",
    "\n",
    "Input: nums = [0,1,0,3,12]\n",
    "\n",
    "Output: [1,3,12,0,0]\n",
    "\n",
    "\n",
    "**Constraints:**\n",
    "\n",
    "    1 <= nums.length <= 104\n",
    "    -231 <= nums[i] <= 231 - 1\n"
   ],
   "metadata": {}
  },
  {
   "cell_type": "code",
   "execution_count": 6,
   "source": [
    "class Solution:\n",
    "    def moveZeroes(self, nums: list) -> list:\n",
    "        j = 0\n",
    "        for num in nums:\n",
    "            if(num != 0):\n",
    "                nums[j] = num\n",
    "                j += 1\n",
    "\n",
    "        for x in range(j, len(nums)):\n",
    "            nums[x] = 0\n",
    "        return nums\n",
    "\n",
    "s=Solution()\n",
    "input = [0,1,0,3,12]\n",
    "print(\"input:\\t\",input)\n",
    "output=s.moveZeroes(input)\n",
    "print(\"output:\\t\",output)"
   ],
   "outputs": [
    {
     "output_type": "stream",
     "name": "stdout",
     "text": [
      "input:\t [0, 1, 0, 3, 12]\n",
      "output:\t [1, 3, 12, 0, 0]\n"
     ]
    }
   ],
   "metadata": {}
  }
 ],
 "metadata": {
  "orig_nbformat": 4,
  "language_info": {
   "name": "python",
   "version": "3.8.1",
   "mimetype": "text/x-python",
   "codemirror_mode": {
    "name": "ipython",
    "version": 3
   },
   "pygments_lexer": "ipython3",
   "nbconvert_exporter": "python",
   "file_extension": ".py"
  },
  "kernelspec": {
   "name": "python3",
   "display_name": "Python 3.8.1 64-bit ('python3.8venv': virtualenv)"
  },
  "interpreter": {
   "hash": "df9d03984b83641a2505d1d16443fe5d25870b4c7aed6c932a1853d344d70fb3"
  }
 },
 "nbformat": 4,
 "nbformat_minor": 2
}