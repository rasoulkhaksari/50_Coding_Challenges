{
 "cells": [
  {
   "cell_type": "markdown",
   "source": [
    "##  **Binary Tree Maximum Path Sum**\n",
    "---\n",
    "A path in a binary tree is a sequence of nodes where each pair of adjacent nodes in the sequence has an edge connecting them. A node can only appear in the sequence at most once. Note that the path does not need to pass through the root.\n",
    "\n",
    "The path sum of a path is the sum of the node's values in the path.\n",
    "\n",
    "Given the root of a binary tree, return the maximum path sum of any path.\n",
    "\n",
    " \n",
    "\n",
    "**Example:**  \n",
    "\n",
    "**Input:** root = [-10,9,20,null,null,15,7]  \n",
    "**Output:** 42  \n",
    "**Explanation:** The optimal path is 15 -> 20 -> 7 with a path sum of 15 + 20 + 7 = 42.\n",
    "\n",
    "![btree](./asset/btree3.jpg)"
   ],
   "metadata": {}
  },
  {
   "cell_type": "code",
   "execution_count": 3,
   "source": [
    "class TreeNode:\n",
    "    def __init__(self, x):\n",
    "        self.val = x\n",
    "        self.left = None\n",
    "        self.right = None\n",
    "\n",
    "\n",
    "class Solution:\n",
    "    ans = -float(\"inf\")\n",
    "    def solution(self,node):\n",
    "        if(node is None):\n",
    "            return 0\n",
    "        left = self.solution(node.left)\n",
    "        right = self.solution(node.right)\n",
    "\n",
    "        mxSide = max(node.val,max(left,right)+node.val)\n",
    "        mxTop = max(mxSide,left+right+node.val)\n",
    "        self.ans = max(self.ans,mxTop)\n",
    "        return mxSide\n",
    "\n",
    "    def maxPathSum(self, root: TreeNode) -> int:\n",
    "        self.solution(root)\n",
    "        return self.ans\n",
    "\n",
    "root = TreeNode(-10)\n",
    "node2=TreeNode(9)\n",
    "node3=TreeNode(20)\n",
    "node4=TreeNode(15)\n",
    "node5=TreeNode(7)\n",
    "root.left=node2\n",
    "root.right=node3\n",
    "node3.left=node4\n",
    "node3.right=node5\n",
    "\n",
    "s=Solution()\n",
    "\n",
    "print('input:\\troot = [-10,9,20,null,null,15,7]')\n",
    "print('output:\\t',s.maxPathSum(root)) "
   ],
   "outputs": [
    {
     "output_type": "stream",
     "name": "stdout",
     "text": [
      "input:\troot = [-10,9,20,null,null,15,7]\n",
      "output:\t 42\n"
     ]
    }
   ],
   "metadata": {}
  }
 ],
 "metadata": {
  "orig_nbformat": 4,
  "language_info": {
   "name": "python",
   "version": "3.8.1",
   "mimetype": "text/x-python",
   "codemirror_mode": {
    "name": "ipython",
    "version": 3
   },
   "pygments_lexer": "ipython3",
   "nbconvert_exporter": "python",
   "file_extension": ".py"
  },
  "kernelspec": {
   "name": "python3",
   "display_name": "Python 3.8.1 64-bit ('python3.8venv': virtualenv)"
  },
  "interpreter": {
   "hash": "df9d03984b83641a2505d1d16443fe5d25870b4c7aed6c932a1853d344d70fb3"
  }
 },
 "nbformat": 4,
 "nbformat_minor": 2
}