{
 "cells": [
  {
   "cell_type": "markdown",
   "source": [
    "## **Reverse Linked List**\n",
    "---\n",
    "Given the head of a singly linked list, reverse the list, and return the reversed list.\n",
    "\n",
    "**Example**  \n",
    "**Input:** head = [1,2,3,4,5]  \n",
    "**Output:** [5,4,3,2,1]\n"
   ],
   "metadata": {}
  },
  {
   "cell_type": "code",
   "execution_count": 10,
   "source": [
    "class ListNode:\n",
    "    def __init__(self, x):\n",
    "        self.val = x\n",
    "        self.next = None\n",
    "\n",
    "\n",
    "class Solution:\n",
    "    def reverseList(self, head: ListNode) -> ListNode:\n",
    "        node = None\n",
    "        while(head is not None):\n",
    "            next = head.next\n",
    "            head.next = node\n",
    "            node = head\n",
    "            head = next\n",
    "        return node\n",
    "\n",
    "\n",
    "\n",
    "s=Solution()\n",
    "LstNode1 = ListNode(1)\n",
    "LstNode2 = ListNode(2)\n",
    "LstNode3 = ListNode(3)\n",
    "LstNode4 = ListNode(4)\n",
    "LstNode5 = ListNode(5)\n",
    "LstNode1.next=LstNode2\n",
    "LstNode2.next=LstNode3\n",
    "LstNode3.next=LstNode4\n",
    "LstNode4.next=LstNode5\n",
    "\n",
    "\n",
    "reversed = s.reverseList(LstNode1)\n",
    "head = LstNode1\n",
    "print('input list: [1,2,3,4,5]')\n",
    "print(\"reversed list: \",reversed.val,end=',')\n",
    "while reversed.next:\n",
    "    reversed = reversed.next\n",
    "    print(reversed.val,end=',') \n",
    "\n"
   ],
   "outputs": [
    {
     "output_type": "stream",
     "name": "stdout",
     "text": [
      "input list: [1,2,3,4,5]\n",
      "reversed list:  5,4,3,2,1,"
     ]
    }
   ],
   "metadata": {}
  }
 ],
 "metadata": {
  "orig_nbformat": 4,
  "language_info": {
   "name": "python",
   "version": "3.8.1",
   "mimetype": "text/x-python",
   "codemirror_mode": {
    "name": "ipython",
    "version": 3
   },
   "pygments_lexer": "ipython3",
   "nbconvert_exporter": "python",
   "file_extension": ".py"
  },
  "kernelspec": {
   "name": "python3",
   "display_name": "Python 3.8.1 64-bit ('python3.8venv': virtualenv)"
  },
  "interpreter": {
   "hash": "df9d03984b83641a2505d1d16443fe5d25870b4c7aed6c932a1853d344d70fb3"
  }
 },
 "nbformat": 4,
 "nbformat_minor": 2
}