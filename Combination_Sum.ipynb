{
 "cells": [
  {
   "cell_type": "markdown",
   "source": [
    "## **Combination Sum**\n",
    "---\n",
    "Given an array of distinct integers candidates and a target integer target, return a list of all unique combinations of candidates where the chosen numbers sum to target. You may return the combinations in any order.\n",
    "\n",
    "The same number may be chosen from candidates an unlimited number of times. Two combinations are unique if the frequency of at least one of the chosen numbers is different.\n",
    "\n",
    "It is guaranteed that the number of unique combinations that sum up to target is less than 150 combinations for the given input.\n",
    "\n",
    " \n",
    "\n",
    "**Example:**\n",
    "\n",
    "**Input:** candidates = [2,3,6,7], target = 7  \n",
    "**Output:** [[2,2,3],[7]]  \n",
    "**Explanation:**  \n",
    "2 and 3 are candidates, and 2 + 2 + 3 = 7. Note that 2 can be used multiple times.  \n",
    "7 is a candidate, and 7 = 7.  \n",
    "These are the only two combinations.  \n"
   ],
   "metadata": {}
  },
  {
   "cell_type": "code",
   "execution_count": 2,
   "source": [
    "class Solution:\n",
    "    def solution(self, candidates,ans,cur,target,index,sum):\n",
    "        if(sum==target):\n",
    "            ans.append(cur[:])\n",
    "        elif(sum<target):\n",
    "            n = len(candidates)\n",
    "            for i in range(index,n):\n",
    "                cur.append(candidates[i])\n",
    "                self.solution(candidates,ans,cur,target,i,sum+candidates[i])\n",
    "                cur.pop()\n",
    "        return\n",
    "    def combinationSum(self, candidates: list, target: int) -> list:\n",
    "        ans = []\n",
    "        cur = []\n",
    "        self.solution(candidates,ans,cur,target,0,0)\n",
    "        return ans\n",
    "\n",
    "\n",
    "s=Solution()\n",
    "candidates = [2,3,6,7]\n",
    "target = 7\n",
    "print(\"candidates: \",candidates)\n",
    "print(\"target: \",target) \n",
    "print(\"output: \",s.combinationSum(candidates,target))\n",
    "\n"
   ],
   "outputs": [
    {
     "output_type": "stream",
     "name": "stdout",
     "text": [
      "candidates:  [2, 3, 6, 7]\n",
      "target:  7\n",
      "output:  [[2, 2, 3], [7]]\n"
     ]
    }
   ],
   "metadata": {}
  }
 ],
 "metadata": {
  "orig_nbformat": 4,
  "language_info": {
   "name": "python",
   "version": "3.8.1",
   "mimetype": "text/x-python",
   "codemirror_mode": {
    "name": "ipython",
    "version": 3
   },
   "pygments_lexer": "ipython3",
   "nbconvert_exporter": "python",
   "file_extension": ".py"
  },
  "kernelspec": {
   "name": "python3",
   "display_name": "Python 3.8.1 64-bit ('python3.8venv': virtualenv)"
  },
  "interpreter": {
   "hash": "df9d03984b83641a2505d1d16443fe5d25870b4c7aed6c932a1853d344d70fb3"
  }
 },
 "nbformat": 4,
 "nbformat_minor": 2
}