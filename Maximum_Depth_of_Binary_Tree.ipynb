{
 "cells": [
  {
   "cell_type": "markdown",
   "source": [
    "## **Maximum Depth of Binary Tree**\n",
    "---\n",
    "Given the root of a binary tree, return its maximum depth.\n",
    "\n",
    "A binary tree's maximum depth is the number of nodes along the longest path from the root node down to the farthest leaf node.\n",
    "\n",
    " \n",
    "\n",
    "**Example:**  \n",
    "**Input:** root = [3,9,20,null,null,15,7]  \n",
    "**Output:** 3"
   ],
   "metadata": {}
  },
  {
   "cell_type": "code",
   "execution_count": 2,
   "source": [
    "class TreeNode:\n",
    "    def __init__(self, x):\n",
    "        self.val = x\n",
    "        self.left = None\n",
    "        self.right = None\n",
    "\n",
    "class Solution:\n",
    "    def maxDepth(self, root: TreeNode) -> int:\n",
    "        if(root is None):\n",
    "            return 0\n",
    "        if(root.left is None and  root.right is None):\n",
    "            return 1\n",
    "        \n",
    "        left = self.maxDepth(root.left)\n",
    "        right = self.maxDepth(root.right)\n",
    "\n",
    "        return max(left,right)+1\n",
    "\n",
    "\n",
    "s=Solution()\n",
    "root=TreeNode(3)\n",
    "node1=TreeNode(9)\n",
    "node2=TreeNode(20)\n",
    "node3=TreeNode(15)\n",
    "node4=TreeNode(17)\n",
    "root.left=node1\n",
    "root.right=node2\n",
    "node2.left=node3\n",
    "node2.right=node4\n",
    "\n",
    "print('input: [3,9,20,null,null,15,7]')\n",
    "print(\"Maximum Depth of Binary Tree is: \",s.maxDepth(root))\n"
   ],
   "outputs": [
    {
     "output_type": "stream",
     "name": "stdout",
     "text": [
      "Maximum Depth of Binary Tree is:  3\n"
     ]
    }
   ],
   "metadata": {}
  }
 ],
 "metadata": {
  "orig_nbformat": 4,
  "language_info": {
   "name": "python",
   "version": "3.8.1",
   "mimetype": "text/x-python",
   "codemirror_mode": {
    "name": "ipython",
    "version": 3
   },
   "pygments_lexer": "ipython3",
   "nbconvert_exporter": "python",
   "file_extension": ".py"
  },
  "kernelspec": {
   "name": "python3",
   "display_name": "Python 3.8.1 64-bit ('python3.8venv': virtualenv)"
  },
  "interpreter": {
   "hash": "df9d03984b83641a2505d1d16443fe5d25870b4c7aed6c932a1853d344d70fb3"
  }
 },
 "nbformat": 4,
 "nbformat_minor": 2
}