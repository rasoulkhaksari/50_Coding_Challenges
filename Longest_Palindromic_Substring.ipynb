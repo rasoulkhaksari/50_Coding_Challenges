{
 "cells": [
  {
   "cell_type": "markdown",
   "source": [
    "## **Longest Palindromic Substring**\n",
    "---\n",
    "Given a string s, return the longest palindromic substring in s.\n",
    "\n",
    " \n",
    "\n",
    "**Example:**\n",
    "\n",
    "**Input:** s = \"babad\"  \n",
    "**Output:** \"bab\"  \n",
    "**Note:** \"aba\" is also a valid answer.\n"
   ],
   "metadata": {}
  },
  {
   "cell_type": "code",
   "execution_count": 2,
   "source": [
    "class Solution:\n",
    "    def longestPalindrome(self, s: str) -> str:\n",
    "        n = len(s)\n",
    "        if(n<2):\n",
    "            return s\n",
    "        left = 0\n",
    "        right = 0\n",
    "\n",
    "        palindrome = [[0]*n for _ in range(n)]\n",
    "\n",
    "        for j in range(1,n):\n",
    "            for i in range(0,j):\n",
    "                innerIsPalindrome = palindrome[i+1][j-1] or j-i<=2\n",
    "                if(s[i] == s[j] and innerIsPalindrome):\n",
    "                    palindrome[i][j] = True\n",
    "                    if(j-i>right-left):\n",
    "                        left = i\n",
    "                        right = j\n",
    "\n",
    "        return s[left:right+1] \n",
    "\n",
    "\n",
    "\n",
    "s=Solution()\n",
    "input = \"babad\" \n",
    "print(\"input=\\t\",input)\n",
    "print(\"output=\\t\",s.longestPalindrome(input))"
   ],
   "outputs": [
    {
     "output_type": "stream",
     "name": "stdout",
     "text": [
      "input=\t babad\n",
      "output=\t bab\n"
     ]
    }
   ],
   "metadata": {}
  }
 ],
 "metadata": {
  "orig_nbformat": 4,
  "language_info": {
   "name": "python",
   "version": "3.8.1",
   "mimetype": "text/x-python",
   "codemirror_mode": {
    "name": "ipython",
    "version": 3
   },
   "pygments_lexer": "ipython3",
   "nbconvert_exporter": "python",
   "file_extension": ".py"
  },
  "kernelspec": {
   "name": "python3",
   "display_name": "Python 3.8.1 64-bit ('python3.8venv': virtualenv)"
  },
  "interpreter": {
   "hash": "df9d03984b83641a2505d1d16443fe5d25870b4c7aed6c932a1853d344d70fb3"
  }
 },
 "nbformat": 4,
 "nbformat_minor": 2
}