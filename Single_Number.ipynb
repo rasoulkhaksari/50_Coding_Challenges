{
 "cells": [
  {
   "cell_type": "markdown",
   "source": [
    "## **Single Number**\n",
    "---\n",
    "Given a non-empty array of integers nums, every element appears twice except for one. Find that single one.\n",
    "\n",
    "You must implement a solution with a linear runtime complexity and use only constant extra space.\n",
    "\n",
    "**Example:**\n",
    "\n",
    "**Input:** nums = [2,2,1]  \n",
    "**Output:** 1\n"
   ],
   "metadata": {}
  },
  {
   "cell_type": "code",
   "execution_count": 2,
   "source": [
    "class Solution(object):\n",
    "    def singleNumber(self, nums):\n",
    "        return 2*sum(set(nums))-sum(nums)\n",
    "\n",
    "\n",
    "s=Solution()\n",
    "input = [2,2,1]\n",
    "print(f\"Single number in {input} is : {s.singleNumber(input)}\")"
   ],
   "outputs": [
    {
     "output_type": "stream",
     "name": "stdout",
     "text": [
      "Single number in [2, 2, 1] is : 1\n"
     ]
    }
   ],
   "metadata": {}
  }
 ],
 "metadata": {
  "orig_nbformat": 4,
  "language_info": {
   "name": "python",
   "version": "3.8.1",
   "mimetype": "text/x-python",
   "codemirror_mode": {
    "name": "ipython",
    "version": 3
   },
   "pygments_lexer": "ipython3",
   "nbconvert_exporter": "python",
   "file_extension": ".py"
  },
  "kernelspec": {
   "name": "python3",
   "display_name": "Python 3.8.1 64-bit ('python3.8venv': virtualenv)"
  },
  "interpreter": {
   "hash": "df9d03984b83641a2505d1d16443fe5d25870b4c7aed6c932a1853d344d70fb3"
  }
 },
 "nbformat": 4,
 "nbformat_minor": 2
}