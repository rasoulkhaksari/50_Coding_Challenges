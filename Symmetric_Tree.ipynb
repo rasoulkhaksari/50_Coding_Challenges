{
 "cells": [
  {
   "cell_type": "markdown",
   "source": [
    "## **Symmetric Tree**\n",
    "---\n",
    "Given the root of a binary tree, check whether it is a mirror of itself (i.e., symmetric around its center).\n",
    "\n",
    "![Symmetric Tree](./asset/tree1.jpg)\n",
    "\n",
    "**Example:**  \n",
    "**Input:** root = [1,2,2,3,4,4,3]  \n",
    "**Output:** true"
   ],
   "metadata": {}
  },
  {
   "cell_type": "code",
   "execution_count": 3,
   "source": [
    "class TreeNode:\n",
    "    def __init__(self, x):\n",
    "        self.val = x\n",
    "        self.left = None\n",
    "        self.right = None\n",
    "\n",
    "class Solution:\n",
    "    def isMirror(self,t1,t2):\n",
    "        if(t1 is None and t2 is None):\n",
    "            return True\n",
    "        if(t1 is None or t2 is None):\n",
    "            return False\n",
    "        return (t1.val==t2.val) and self.isMirror(t1.right,t2.left) and self.isMirror(t1.left,t2.right)\n",
    "    def isSymmetric(self, root: TreeNode) -> bool:\n",
    "        return self.isMirror(root,root)\n",
    "\n",
    "\n",
    "s=Solution()\n",
    "root = TreeNode(1)\n",
    "node1=TreeNode(2)\n",
    "node2=TreeNode(3)\n",
    "node3=TreeNode(4)\n",
    "node4=TreeNode(2)\n",
    "node5=TreeNode(4)\n",
    "node6=TreeNode(3)\n",
    "root.left = node1\n",
    "root.right = node4\n",
    "node1.left=node2\n",
    "node1.right=node3\n",
    "node4.left=node5\n",
    "node4.right=node6\n",
    "\n",
    "print('Input: [1,2,2,3,4,4,3]')\n",
    "print('Is tree symetric? ',s.isSymmetric(root))"
   ],
   "outputs": [
    {
     "output_type": "stream",
     "name": "stdout",
     "text": [
      "Is tree symetric?  True\n"
     ]
    }
   ],
   "metadata": {}
  }
 ],
 "metadata": {
  "orig_nbformat": 4,
  "language_info": {
   "name": "python",
   "version": "3.8.1",
   "mimetype": "text/x-python",
   "codemirror_mode": {
    "name": "ipython",
    "version": 3
   },
   "pygments_lexer": "ipython3",
   "nbconvert_exporter": "python",
   "file_extension": ".py"
  },
  "kernelspec": {
   "name": "python3",
   "display_name": "Python 3.8.1 64-bit ('python3.8venv': virtualenv)"
  },
  "interpreter": {
   "hash": "df9d03984b83641a2505d1d16443fe5d25870b4c7aed6c932a1853d344d70fb3"
  }
 },
 "nbformat": 4,
 "nbformat_minor": 2
}