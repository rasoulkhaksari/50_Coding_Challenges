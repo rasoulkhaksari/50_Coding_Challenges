{
 "cells": [
  {
   "cell_type": "markdown",
   "source": [
    "## **House Robber**\n",
    "---\n",
    "You are a professional robber planning to rob houses along a street. Each house has a certain amount of money stashed, the only constraint stopping you from robbing each of them is that adjacent houses have security systems connected and it will automatically contact the police if two adjacent houses were broken into on the same night.\n",
    "\n",
    "Given an integer array nums representing the amount of money of each house, return the maximum amount of money you can rob tonight without alerting the police.\n",
    "\n",
    " \n",
    "**Example:**\n",
    "\n",
    "**Input:** nums = [1,2,3,1]  \n",
    "**Output:** 4  \n",
    "**Explanation:** Rob house 1 (money = 1) and then rob house 3 (money = 3).  \n",
    "Total amount you can rob = 1 + 3 = 4.\n"
   ],
   "metadata": {}
  },
  {
   "cell_type": "code",
   "execution_count": 3,
   "source": [
    "class Solution:\n",
    "    def rob(self, nums: list) -> int:\n",
    "        n = len(nums)\n",
    "        if(n==0):\n",
    "            return 0\n",
    "        \n",
    "        dp = [0] * n\n",
    "        dp[0] = nums[0]\n",
    "\n",
    "        for i in range(1,n):\n",
    "            if(i==1):\n",
    "                dp[i] = max(nums[0],nums[1])\n",
    "            else:\n",
    "                dp[i] = max(dp[i-1], dp[i-2]+nums[i])\n",
    "            \n",
    "        return dp[-1]\n",
    "\n",
    "s=Solution()\n",
    "input = [1,2,3,1]\n",
    "print('input=\\t[1,2,3,1]')\n",
    "print('output=\\t',s.rob(input))\n"
   ],
   "outputs": [
    {
     "output_type": "stream",
     "name": "stdout",
     "text": [
      "input=\t[1,2,3,1]\n",
      "output=\t 4\n"
     ]
    }
   ],
   "metadata": {}
  }
 ],
 "metadata": {
  "orig_nbformat": 4,
  "language_info": {
   "name": "python",
   "version": "3.8.1",
   "mimetype": "text/x-python",
   "codemirror_mode": {
    "name": "ipython",
    "version": 3
   },
   "pygments_lexer": "ipython3",
   "nbconvert_exporter": "python",
   "file_extension": ".py"
  },
  "kernelspec": {
   "name": "python3",
   "display_name": "Python 3.8.1 64-bit ('python3.8venv': virtualenv)"
  },
  "interpreter": {
   "hash": "df9d03984b83641a2505d1d16443fe5d25870b4c7aed6c932a1853d344d70fb3"
  }
 },
 "nbformat": 4,
 "nbformat_minor": 2
}