{
 "cells": [
  {
   "cell_type": "markdown",
   "source": [
    "## **Merge Two Sorted Lists**\n",
    "---\n",
    "Merge two sorted linked lists and return it as a sorted list. The list should be made by splicing together the nodes of the first two lists.\n",
    " \n",
    "\n",
    "**Example:**  \n",
    "**Input:** l1 = [1,2,4], l2 = [1,3,4]  \n",
    "**Output:** [1,1,2,3,4,4]"
   ],
   "metadata": {}
  },
  {
   "cell_type": "code",
   "execution_count": 6,
   "source": [
    "class ListNode:\n",
    "    def __init__(self, x):\n",
    "        self.val = x\n",
    "        self.next = None\n",
    "\n",
    "class Solution:\n",
    "    def mergeTwoLists(self, l1: ListNode, l2: ListNode) -> ListNode:\n",
    "        cur = ListNode(0)\n",
    "        ans = cur\n",
    "        \n",
    "        while(l1 and l2):\n",
    "            if(l1.val>l2.val):\n",
    "                cur.next = l2\n",
    "                l2 = l2.next\n",
    "            else:\n",
    "                cur.next = l1\n",
    "                l1 = l1.next\n",
    "            cur = cur.next\n",
    "            \n",
    "        while(l1):\n",
    "            cur.next = l1\n",
    "            l1 = l1.next\n",
    "            cur = cur.next\n",
    "        \n",
    "        while(l2):\n",
    "            cur.next = l2\n",
    "            l2 = l2.next\n",
    "            cur = cur.next\n",
    "        return ans.next\n",
    "\n",
    "s=Solution()\n",
    "\n",
    "lstNode1 = ListNode(1)\n",
    "lstNode2 = ListNode(2)\n",
    "lstNode3 = ListNode(3)\n",
    "lstNode1.next = lstNode2\n",
    "lstNode2.next  =lstNode3\n",
    "\n",
    "lstNode4 = ListNode(1)\n",
    "lstNode5 = ListNode(3)\n",
    "lstNode6 = ListNode(4)\n",
    "lstNode4.next = lstNode5\n",
    "lstNode5.next  =lstNode6\n",
    "\n",
    "result = s.mergeTwoLists(lstNode1,lstNode4)\n",
    "print(\"output: \",result.val,end=',')\n",
    "while result.next:\n",
    "    result = result.next\n",
    "    print(result.val,end=',')"
   ],
   "outputs": [
    {
     "output_type": "stream",
     "name": "stdout",
     "text": [
      "output:  1\n",
      "1,2,3,3,4,"
     ]
    }
   ],
   "metadata": {}
  }
 ],
 "metadata": {
  "orig_nbformat": 4,
  "language_info": {
   "name": "python",
   "version": "3.8.1",
   "mimetype": "text/x-python",
   "codemirror_mode": {
    "name": "ipython",
    "version": 3
   },
   "pygments_lexer": "ipython3",
   "nbconvert_exporter": "python",
   "file_extension": ".py"
  },
  "kernelspec": {
   "name": "python3",
   "display_name": "Python 3.8.1 64-bit ('python3.8venv': virtualenv)"
  },
  "interpreter": {
   "hash": "df9d03984b83641a2505d1d16443fe5d25870b4c7aed6c932a1853d344d70fb3"
  }
 },
 "nbformat": 4,
 "nbformat_minor": 2
}