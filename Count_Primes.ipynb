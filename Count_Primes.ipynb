{
 "cells": [
  {
   "cell_type": "markdown",
   "source": [
    "## **Count Primes**\n",
    "---\n",
    "Count the number of prime numbers less than a non-negative number, n.\n",
    "\n",
    "**Example:**\n",
    "\n",
    "**Input:** n = 10  \n",
    "**Output:** 4  \n",
    "**Explanation:** There are 4 prime numbers less than 10, they are 2, 3, 5, 7.\n"
   ],
   "metadata": {}
  },
  {
   "cell_type": "code",
   "execution_count": 1,
   "source": [
    "import math\n",
    "\n",
    "class Solution:\n",
    "    def countPrimes(self, n: int) -> int:\t\t\n",
    "        \n",
    "        if n<2:\n",
    "            return 0\n",
    "        isPrime = [True]*n\n",
    "        isPrime[0] = isPrime[1] = False\n",
    "        \n",
    "        for i in range(2,math.ceil(math.sqrt(n))):\n",
    "            if isPrime[i]:\n",
    "                for multiples_of_i in range(i*i,n,i):\n",
    "                    isPrime[multiples_of_i] = False\n",
    "        \n",
    "        return sum(isPrime)\n",
    "\n",
    "n = 10\n",
    "s=Solution()\n",
    "print(f\"Number of prime numbers less than {n} is: {s.countPrimes(n)}\")"
   ],
   "outputs": [
    {
     "output_type": "stream",
     "name": "stdout",
     "text": [
      "Number of prime numbers less than 10 is: 4\n"
     ]
    }
   ],
   "metadata": {}
  }
 ],
 "metadata": {
  "orig_nbformat": 4,
  "language_info": {
   "name": "python",
   "version": "3.8.1",
   "mimetype": "text/x-python",
   "codemirror_mode": {
    "name": "ipython",
    "version": 3
   },
   "pygments_lexer": "ipython3",
   "nbconvert_exporter": "python",
   "file_extension": ".py"
  },
  "kernelspec": {
   "name": "python3",
   "display_name": "Python 3.8.1 64-bit ('python3.8venv': virtualenv)"
  },
  "interpreter": {
   "hash": "df9d03984b83641a2505d1d16443fe5d25870b4c7aed6c932a1853d344d70fb3"
  }
 },
 "nbformat": 4,
 "nbformat_minor": 2
}