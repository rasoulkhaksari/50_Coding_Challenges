{
 "cells": [
  {
   "cell_type": "markdown",
   "source": [
    "## **Letter Combinations of a Phone Number**\n",
    "---\n",
    "Given a string containing digits from 2-9 inclusive, return all possible letter combinations that the number could represent. Return the answer in any order.\n",
    "\n",
    "A mapping of digit to letters (just like on the telephone buttons) is given below. Note that 1 does not map to any letters.\n",
    "\n",
    "![phone keypad](./asset/Telephone-keypad.png)\n",
    "\n",
    "**Example:**\n",
    "\n",
    "**Input:** digits = \"23\"  \n",
    "**Output:** [\"ad\",\"ae\",\"af\",\"bd\",\"be\",\"bf\",\"cd\",\"ce\",\"cf\"]\n"
   ],
   "metadata": {}
  },
  {
   "cell_type": "code",
   "execution_count": 1,
   "source": [
    "class Solution:\n",
    "\n",
    "    def backtracking(self, ans, m, digits, combination, index):\n",
    "        if(index > len(digits)):\n",
    "            return\n",
    "        if(len(combination) == len(digits)):\n",
    "            ans.append(combination[:])\n",
    "            return\n",
    "\n",
    "        currentDigit = digits[index]\n",
    "        curString = m[currentDigit]\n",
    "\n",
    "        for i in range(len(curString)):\n",
    "            self.backtracking(ans, m, digits, combination +\n",
    "                              curString[i], index+1)\n",
    "\n",
    "    def letterCombinations(self, digits: str) -> list:\n",
    "        ans = []\n",
    "        if(len(digits) == 0):\n",
    "            return ans\n",
    "\n",
    "        m = {}\n",
    "\n",
    "        m['2'] = \"abc\"\n",
    "        m['3'] = \"def\"\n",
    "        m['4'] = \"ghi\"\n",
    "        m['5'] = \"jkl\"\n",
    "        m['6'] = \"mno\"\n",
    "        m['7'] = \"pqrs\"\n",
    "        m['8'] = \"tuv\"\n",
    "        m['9'] = \"wxyz\"\n",
    "\n",
    "        self.backtracking(ans, m, digits, \"\", 0)\n",
    "\n",
    "        return ans\n",
    "\n",
    "s=Solution()\n",
    "input = \"23\"\n",
    "print(\"input=\\t\",input)\n",
    "print(\"output=\\t\",s.letterCombinations(input))"
   ],
   "outputs": [
    {
     "output_type": "stream",
     "name": "stdout",
     "text": [
      "input=\t 23\n",
      "output=\t ['ad', 'ae', 'af', 'bd', 'be', 'bf', 'cd', 'ce', 'cf']\n"
     ]
    }
   ],
   "metadata": {}
  }
 ],
 "metadata": {
  "orig_nbformat": 4,
  "language_info": {
   "name": "python",
   "version": "3.8.1",
   "mimetype": "text/x-python",
   "codemirror_mode": {
    "name": "ipython",
    "version": 3
   },
   "pygments_lexer": "ipython3",
   "nbconvert_exporter": "python",
   "file_extension": ".py"
  },
  "kernelspec": {
   "name": "python3",
   "display_name": "Python 3.8.1 64-bit ('python3.8venv': virtualenv)"
  },
  "interpreter": {
   "hash": "df9d03984b83641a2505d1d16443fe5d25870b4c7aed6c932a1853d344d70fb3"
  }
 },
 "nbformat": 4,
 "nbformat_minor": 2
}